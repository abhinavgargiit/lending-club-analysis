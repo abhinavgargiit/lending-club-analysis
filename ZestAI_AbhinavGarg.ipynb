{
 "cells": [
  {
   "cell_type": "markdown",
   "id": "5c2cc6f5",
   "metadata": {},
   "source": [
    "# Zest AI: Data Analysis Exercise\n",
    "\n"
   ]
  },
  {
   "cell_type": "code",
   "execution_count": 2,
   "id": "360753a4",
   "metadata": {},
   "outputs": [],
   "source": [
    "import pandas as pd\n",
    "import numpy as np\n",
    "import seaborn as sns\n",
    "import matplotlib as mpl\n",
    "import matplotlib.pyplot as plt\n",
    "\n",
    "# \"magic\" command to make plots show up in the notebook\n",
    "%matplotlib inline "
   ]
  },
  {
   "cell_type": "code",
   "execution_count": 3,
   "id": "097d92a8",
   "metadata": {},
   "outputs": [],
   "source": [
    "import warnings\n",
    "warnings.filterwarnings(\"ignore\")"
   ]
  },
  {
   "cell_type": "code",
   "execution_count": 4,
   "id": "2116e2cd",
   "metadata": {},
   "outputs": [],
   "source": [
    "from EDA import *"
   ]
  },
  {
   "cell_type": "markdown",
   "id": "ccbdd15f",
   "metadata": {},
   "source": [
    "# 1. Import the Data"
   ]
  },
  {
   "cell_type": "code",
   "execution_count": 5,
   "id": "61a4425b",
   "metadata": {},
   "outputs": [],
   "source": [
    "acc_df = pd.read_csv('accepted_2007_to_2018Q4.csv')\n",
    "#rej_df = pd.read_csv('rejected_2007_to_2018Q4.csv')"
   ]
  },
  {
   "cell_type": "code",
   "execution_count": 6,
   "id": "7a061d55",
   "metadata": {},
   "outputs": [
    {
     "data": {
      "text/plain": [
       "(2260701, 151)"
      ]
     },
     "execution_count": 6,
     "metadata": {},
     "output_type": "execute_result"
    }
   ],
   "source": [
    "acc_df.shape"
   ]
  },
  {
   "cell_type": "code",
   "execution_count": 7,
   "id": "5d454d4b",
   "metadata": {},
   "outputs": [],
   "source": [
    "#rej_df.shape"
   ]
  },
  {
   "cell_type": "code",
   "execution_count": 8,
   "id": "5df48a0e",
   "metadata": {},
   "outputs": [],
   "source": [
    "pd.set_option('display.max_columns', None)"
   ]
  },
  {
   "cell_type": "code",
   "execution_count": 9,
   "id": "6519ed0c",
   "metadata": {},
   "outputs": [
    {
     "name": "stdout",
     "output_type": "stream",
     "text": [
      "<class 'pandas.core.frame.DataFrame'>\n",
      "RangeIndex: 2260701 entries, 0 to 2260700\n",
      "Columns: 151 entries, id to settlement_term\n",
      "dtypes: float64(113), object(38)\n",
      "memory usage: 2.5+ GB\n"
     ]
    }
   ],
   "source": [
    "acc_df.info()"
   ]
  },
  {
   "cell_type": "code",
   "execution_count": 10,
   "id": "5b9232b7",
   "metadata": {},
   "outputs": [
    {
     "data": {
      "text/html": [
       "<div>\n",
       "<style scoped>\n",
       "    .dataframe tbody tr th:only-of-type {\n",
       "        vertical-align: middle;\n",
       "    }\n",
       "\n",
       "    .dataframe tbody tr th {\n",
       "        vertical-align: top;\n",
       "    }\n",
       "\n",
       "    .dataframe thead th {\n",
       "        text-align: right;\n",
       "    }\n",
       "</style>\n",
       "<table border=\"1\" class=\"dataframe\">\n",
       "  <thead>\n",
       "    <tr style=\"text-align: right;\">\n",
       "      <th></th>\n",
       "      <th>id</th>\n",
       "      <th>member_id</th>\n",
       "      <th>loan_amnt</th>\n",
       "      <th>funded_amnt</th>\n",
       "      <th>funded_amnt_inv</th>\n",
       "      <th>term</th>\n",
       "      <th>int_rate</th>\n",
       "      <th>installment</th>\n",
       "      <th>grade</th>\n",
       "      <th>sub_grade</th>\n",
       "      <th>emp_title</th>\n",
       "      <th>emp_length</th>\n",
       "      <th>home_ownership</th>\n",
       "      <th>annual_inc</th>\n",
       "      <th>verification_status</th>\n",
       "      <th>issue_d</th>\n",
       "      <th>loan_status</th>\n",
       "      <th>pymnt_plan</th>\n",
       "      <th>url</th>\n",
       "      <th>desc</th>\n",
       "      <th>purpose</th>\n",
       "      <th>title</th>\n",
       "      <th>zip_code</th>\n",
       "      <th>addr_state</th>\n",
       "      <th>dti</th>\n",
       "      <th>delinq_2yrs</th>\n",
       "      <th>earliest_cr_line</th>\n",
       "      <th>fico_range_low</th>\n",
       "      <th>fico_range_high</th>\n",
       "      <th>inq_last_6mths</th>\n",
       "      <th>mths_since_last_delinq</th>\n",
       "      <th>mths_since_last_record</th>\n",
       "      <th>open_acc</th>\n",
       "      <th>pub_rec</th>\n",
       "      <th>revol_bal</th>\n",
       "      <th>revol_util</th>\n",
       "      <th>total_acc</th>\n",
       "      <th>initial_list_status</th>\n",
       "      <th>out_prncp</th>\n",
       "      <th>out_prncp_inv</th>\n",
       "      <th>total_pymnt</th>\n",
       "      <th>total_pymnt_inv</th>\n",
       "      <th>total_rec_prncp</th>\n",
       "      <th>total_rec_int</th>\n",
       "      <th>total_rec_late_fee</th>\n",
       "      <th>recoveries</th>\n",
       "      <th>collection_recovery_fee</th>\n",
       "      <th>last_pymnt_d</th>\n",
       "      <th>last_pymnt_amnt</th>\n",
       "      <th>next_pymnt_d</th>\n",
       "      <th>last_credit_pull_d</th>\n",
       "      <th>last_fico_range_high</th>\n",
       "      <th>last_fico_range_low</th>\n",
       "      <th>collections_12_mths_ex_med</th>\n",
       "      <th>mths_since_last_major_derog</th>\n",
       "      <th>policy_code</th>\n",
       "      <th>application_type</th>\n",
       "      <th>annual_inc_joint</th>\n",
       "      <th>dti_joint</th>\n",
       "      <th>verification_status_joint</th>\n",
       "      <th>acc_now_delinq</th>\n",
       "      <th>tot_coll_amt</th>\n",
       "      <th>tot_cur_bal</th>\n",
       "      <th>open_acc_6m</th>\n",
       "      <th>open_act_il</th>\n",
       "      <th>open_il_12m</th>\n",
       "      <th>open_il_24m</th>\n",
       "      <th>mths_since_rcnt_il</th>\n",
       "      <th>total_bal_il</th>\n",
       "      <th>il_util</th>\n",
       "      <th>open_rv_12m</th>\n",
       "      <th>open_rv_24m</th>\n",
       "      <th>max_bal_bc</th>\n",
       "      <th>all_util</th>\n",
       "      <th>total_rev_hi_lim</th>\n",
       "      <th>inq_fi</th>\n",
       "      <th>total_cu_tl</th>\n",
       "      <th>inq_last_12m</th>\n",
       "      <th>acc_open_past_24mths</th>\n",
       "      <th>avg_cur_bal</th>\n",
       "      <th>bc_open_to_buy</th>\n",
       "      <th>bc_util</th>\n",
       "      <th>chargeoff_within_12_mths</th>\n",
       "      <th>delinq_amnt</th>\n",
       "      <th>mo_sin_old_il_acct</th>\n",
       "      <th>mo_sin_old_rev_tl_op</th>\n",
       "      <th>mo_sin_rcnt_rev_tl_op</th>\n",
       "      <th>mo_sin_rcnt_tl</th>\n",
       "      <th>mort_acc</th>\n",
       "      <th>mths_since_recent_bc</th>\n",
       "      <th>mths_since_recent_bc_dlq</th>\n",
       "      <th>mths_since_recent_inq</th>\n",
       "      <th>mths_since_recent_revol_delinq</th>\n",
       "      <th>num_accts_ever_120_pd</th>\n",
       "      <th>num_actv_bc_tl</th>\n",
       "      <th>num_actv_rev_tl</th>\n",
       "      <th>num_bc_sats</th>\n",
       "      <th>num_bc_tl</th>\n",
       "      <th>num_il_tl</th>\n",
       "      <th>num_op_rev_tl</th>\n",
       "      <th>num_rev_accts</th>\n",
       "      <th>num_rev_tl_bal_gt_0</th>\n",
       "      <th>num_sats</th>\n",
       "      <th>num_tl_120dpd_2m</th>\n",
       "      <th>num_tl_30dpd</th>\n",
       "      <th>num_tl_90g_dpd_24m</th>\n",
       "      <th>num_tl_op_past_12m</th>\n",
       "      <th>pct_tl_nvr_dlq</th>\n",
       "      <th>percent_bc_gt_75</th>\n",
       "      <th>pub_rec_bankruptcies</th>\n",
       "      <th>tax_liens</th>\n",
       "      <th>tot_hi_cred_lim</th>\n",
       "      <th>total_bal_ex_mort</th>\n",
       "      <th>total_bc_limit</th>\n",
       "      <th>total_il_high_credit_limit</th>\n",
       "      <th>revol_bal_joint</th>\n",
       "      <th>sec_app_fico_range_low</th>\n",
       "      <th>sec_app_fico_range_high</th>\n",
       "      <th>sec_app_earliest_cr_line</th>\n",
       "      <th>sec_app_inq_last_6mths</th>\n",
       "      <th>sec_app_mort_acc</th>\n",
       "      <th>sec_app_open_acc</th>\n",
       "      <th>sec_app_revol_util</th>\n",
       "      <th>sec_app_open_act_il</th>\n",
       "      <th>sec_app_num_rev_accts</th>\n",
       "      <th>sec_app_chargeoff_within_12_mths</th>\n",
       "      <th>sec_app_collections_12_mths_ex_med</th>\n",
       "      <th>sec_app_mths_since_last_major_derog</th>\n",
       "      <th>hardship_flag</th>\n",
       "      <th>hardship_type</th>\n",
       "      <th>hardship_reason</th>\n",
       "      <th>hardship_status</th>\n",
       "      <th>deferral_term</th>\n",
       "      <th>hardship_amount</th>\n",
       "      <th>hardship_start_date</th>\n",
       "      <th>hardship_end_date</th>\n",
       "      <th>payment_plan_start_date</th>\n",
       "      <th>hardship_length</th>\n",
       "      <th>hardship_dpd</th>\n",
       "      <th>hardship_loan_status</th>\n",
       "      <th>orig_projected_additional_accrued_interest</th>\n",
       "      <th>hardship_payoff_balance_amount</th>\n",
       "      <th>hardship_last_payment_amount</th>\n",
       "      <th>disbursement_method</th>\n",
       "      <th>debt_settlement_flag</th>\n",
       "      <th>debt_settlement_flag_date</th>\n",
       "      <th>settlement_status</th>\n",
       "      <th>settlement_date</th>\n",
       "      <th>settlement_amount</th>\n",
       "      <th>settlement_percentage</th>\n",
       "      <th>settlement_term</th>\n",
       "    </tr>\n",
       "  </thead>\n",
       "  <tbody>\n",
       "    <tr>\n",
       "      <th>0</th>\n",
       "      <td>68407277</td>\n",
       "      <td>NaN</td>\n",
       "      <td>3600.0</td>\n",
       "      <td>3600.0</td>\n",
       "      <td>3600.0</td>\n",
       "      <td>36 months</td>\n",
       "      <td>13.99</td>\n",
       "      <td>123.03</td>\n",
       "      <td>C</td>\n",
       "      <td>C4</td>\n",
       "      <td>leadman</td>\n",
       "      <td>10+ years</td>\n",
       "      <td>MORTGAGE</td>\n",
       "      <td>55000.0</td>\n",
       "      <td>Not Verified</td>\n",
       "      <td>Dec-2015</td>\n",
       "      <td>Fully Paid</td>\n",
       "      <td>n</td>\n",
       "      <td>https://lendingclub.com/browse/loanDetail.acti...</td>\n",
       "      <td>NaN</td>\n",
       "      <td>debt_consolidation</td>\n",
       "      <td>Debt consolidation</td>\n",
       "      <td>190xx</td>\n",
       "      <td>PA</td>\n",
       "      <td>5.91</td>\n",
       "      <td>0.0</td>\n",
       "      <td>Aug-2003</td>\n",
       "      <td>675.0</td>\n",
       "      <td>679.0</td>\n",
       "      <td>1.0</td>\n",
       "      <td>30.0</td>\n",
       "      <td>NaN</td>\n",
       "      <td>7.0</td>\n",
       "      <td>0.0</td>\n",
       "      <td>2765.0</td>\n",
       "      <td>29.7</td>\n",
       "      <td>13.0</td>\n",
       "      <td>w</td>\n",
       "      <td>0.00</td>\n",
       "      <td>0.00</td>\n",
       "      <td>4421.723917</td>\n",
       "      <td>4421.72</td>\n",
       "      <td>3600.00</td>\n",
       "      <td>821.72</td>\n",
       "      <td>0.0</td>\n",
       "      <td>0.0</td>\n",
       "      <td>0.0</td>\n",
       "      <td>Jan-2019</td>\n",
       "      <td>122.67</td>\n",
       "      <td>NaN</td>\n",
       "      <td>Mar-2019</td>\n",
       "      <td>564.0</td>\n",
       "      <td>560.0</td>\n",
       "      <td>0.0</td>\n",
       "      <td>30.0</td>\n",
       "      <td>1.0</td>\n",
       "      <td>Individual</td>\n",
       "      <td>NaN</td>\n",
       "      <td>NaN</td>\n",
       "      <td>NaN</td>\n",
       "      <td>0.0</td>\n",
       "      <td>722.0</td>\n",
       "      <td>144904.0</td>\n",
       "      <td>2.0</td>\n",
       "      <td>2.0</td>\n",
       "      <td>0.0</td>\n",
       "      <td>1.0</td>\n",
       "      <td>21.0</td>\n",
       "      <td>4981.0</td>\n",
       "      <td>36.0</td>\n",
       "      <td>3.0</td>\n",
       "      <td>3.0</td>\n",
       "      <td>722.0</td>\n",
       "      <td>34.0</td>\n",
       "      <td>9300.0</td>\n",
       "      <td>3.0</td>\n",
       "      <td>1.0</td>\n",
       "      <td>4.0</td>\n",
       "      <td>4.0</td>\n",
       "      <td>20701.0</td>\n",
       "      <td>1506.0</td>\n",
       "      <td>37.2</td>\n",
       "      <td>0.0</td>\n",
       "      <td>0.0</td>\n",
       "      <td>148.0</td>\n",
       "      <td>128.0</td>\n",
       "      <td>3.0</td>\n",
       "      <td>3.0</td>\n",
       "      <td>1.0</td>\n",
       "      <td>4.0</td>\n",
       "      <td>69.0</td>\n",
       "      <td>4.0</td>\n",
       "      <td>69.0</td>\n",
       "      <td>2.0</td>\n",
       "      <td>2.0</td>\n",
       "      <td>4.0</td>\n",
       "      <td>2.0</td>\n",
       "      <td>5.0</td>\n",
       "      <td>3.0</td>\n",
       "      <td>4.0</td>\n",
       "      <td>9.0</td>\n",
       "      <td>4.0</td>\n",
       "      <td>7.0</td>\n",
       "      <td>0.0</td>\n",
       "      <td>0.0</td>\n",
       "      <td>0.0</td>\n",
       "      <td>3.0</td>\n",
       "      <td>76.9</td>\n",
       "      <td>0.0</td>\n",
       "      <td>0.0</td>\n",
       "      <td>0.0</td>\n",
       "      <td>178050.0</td>\n",
       "      <td>7746.0</td>\n",
       "      <td>2400.0</td>\n",
       "      <td>13734.0</td>\n",
       "      <td>NaN</td>\n",
       "      <td>NaN</td>\n",
       "      <td>NaN</td>\n",
       "      <td>NaN</td>\n",
       "      <td>NaN</td>\n",
       "      <td>NaN</td>\n",
       "      <td>NaN</td>\n",
       "      <td>NaN</td>\n",
       "      <td>NaN</td>\n",
       "      <td>NaN</td>\n",
       "      <td>NaN</td>\n",
       "      <td>NaN</td>\n",
       "      <td>NaN</td>\n",
       "      <td>N</td>\n",
       "      <td>NaN</td>\n",
       "      <td>NaN</td>\n",
       "      <td>NaN</td>\n",
       "      <td>NaN</td>\n",
       "      <td>NaN</td>\n",
       "      <td>NaN</td>\n",
       "      <td>NaN</td>\n",
       "      <td>NaN</td>\n",
       "      <td>NaN</td>\n",
       "      <td>NaN</td>\n",
       "      <td>NaN</td>\n",
       "      <td>NaN</td>\n",
       "      <td>NaN</td>\n",
       "      <td>NaN</td>\n",
       "      <td>Cash</td>\n",
       "      <td>N</td>\n",
       "      <td>NaN</td>\n",
       "      <td>NaN</td>\n",
       "      <td>NaN</td>\n",
       "      <td>NaN</td>\n",
       "      <td>NaN</td>\n",
       "      <td>NaN</td>\n",
       "    </tr>\n",
       "    <tr>\n",
       "      <th>1</th>\n",
       "      <td>68355089</td>\n",
       "      <td>NaN</td>\n",
       "      <td>24700.0</td>\n",
       "      <td>24700.0</td>\n",
       "      <td>24700.0</td>\n",
       "      <td>36 months</td>\n",
       "      <td>11.99</td>\n",
       "      <td>820.28</td>\n",
       "      <td>C</td>\n",
       "      <td>C1</td>\n",
       "      <td>Engineer</td>\n",
       "      <td>10+ years</td>\n",
       "      <td>MORTGAGE</td>\n",
       "      <td>65000.0</td>\n",
       "      <td>Not Verified</td>\n",
       "      <td>Dec-2015</td>\n",
       "      <td>Fully Paid</td>\n",
       "      <td>n</td>\n",
       "      <td>https://lendingclub.com/browse/loanDetail.acti...</td>\n",
       "      <td>NaN</td>\n",
       "      <td>small_business</td>\n",
       "      <td>Business</td>\n",
       "      <td>577xx</td>\n",
       "      <td>SD</td>\n",
       "      <td>16.06</td>\n",
       "      <td>1.0</td>\n",
       "      <td>Dec-1999</td>\n",
       "      <td>715.0</td>\n",
       "      <td>719.0</td>\n",
       "      <td>4.0</td>\n",
       "      <td>6.0</td>\n",
       "      <td>NaN</td>\n",
       "      <td>22.0</td>\n",
       "      <td>0.0</td>\n",
       "      <td>21470.0</td>\n",
       "      <td>19.2</td>\n",
       "      <td>38.0</td>\n",
       "      <td>w</td>\n",
       "      <td>0.00</td>\n",
       "      <td>0.00</td>\n",
       "      <td>25679.660000</td>\n",
       "      <td>25679.66</td>\n",
       "      <td>24700.00</td>\n",
       "      <td>979.66</td>\n",
       "      <td>0.0</td>\n",
       "      <td>0.0</td>\n",
       "      <td>0.0</td>\n",
       "      <td>Jun-2016</td>\n",
       "      <td>926.35</td>\n",
       "      <td>NaN</td>\n",
       "      <td>Mar-2019</td>\n",
       "      <td>699.0</td>\n",
       "      <td>695.0</td>\n",
       "      <td>0.0</td>\n",
       "      <td>NaN</td>\n",
       "      <td>1.0</td>\n",
       "      <td>Individual</td>\n",
       "      <td>NaN</td>\n",
       "      <td>NaN</td>\n",
       "      <td>NaN</td>\n",
       "      <td>0.0</td>\n",
       "      <td>0.0</td>\n",
       "      <td>204396.0</td>\n",
       "      <td>1.0</td>\n",
       "      <td>1.0</td>\n",
       "      <td>0.0</td>\n",
       "      <td>1.0</td>\n",
       "      <td>19.0</td>\n",
       "      <td>18005.0</td>\n",
       "      <td>73.0</td>\n",
       "      <td>2.0</td>\n",
       "      <td>3.0</td>\n",
       "      <td>6472.0</td>\n",
       "      <td>29.0</td>\n",
       "      <td>111800.0</td>\n",
       "      <td>0.0</td>\n",
       "      <td>0.0</td>\n",
       "      <td>6.0</td>\n",
       "      <td>4.0</td>\n",
       "      <td>9733.0</td>\n",
       "      <td>57830.0</td>\n",
       "      <td>27.1</td>\n",
       "      <td>0.0</td>\n",
       "      <td>0.0</td>\n",
       "      <td>113.0</td>\n",
       "      <td>192.0</td>\n",
       "      <td>2.0</td>\n",
       "      <td>2.0</td>\n",
       "      <td>4.0</td>\n",
       "      <td>2.0</td>\n",
       "      <td>NaN</td>\n",
       "      <td>0.0</td>\n",
       "      <td>6.0</td>\n",
       "      <td>0.0</td>\n",
       "      <td>5.0</td>\n",
       "      <td>5.0</td>\n",
       "      <td>13.0</td>\n",
       "      <td>17.0</td>\n",
       "      <td>6.0</td>\n",
       "      <td>20.0</td>\n",
       "      <td>27.0</td>\n",
       "      <td>5.0</td>\n",
       "      <td>22.0</td>\n",
       "      <td>0.0</td>\n",
       "      <td>0.0</td>\n",
       "      <td>0.0</td>\n",
       "      <td>2.0</td>\n",
       "      <td>97.4</td>\n",
       "      <td>7.7</td>\n",
       "      <td>0.0</td>\n",
       "      <td>0.0</td>\n",
       "      <td>314017.0</td>\n",
       "      <td>39475.0</td>\n",
       "      <td>79300.0</td>\n",
       "      <td>24667.0</td>\n",
       "      <td>NaN</td>\n",
       "      <td>NaN</td>\n",
       "      <td>NaN</td>\n",
       "      <td>NaN</td>\n",
       "      <td>NaN</td>\n",
       "      <td>NaN</td>\n",
       "      <td>NaN</td>\n",
       "      <td>NaN</td>\n",
       "      <td>NaN</td>\n",
       "      <td>NaN</td>\n",
       "      <td>NaN</td>\n",
       "      <td>NaN</td>\n",
       "      <td>NaN</td>\n",
       "      <td>N</td>\n",
       "      <td>NaN</td>\n",
       "      <td>NaN</td>\n",
       "      <td>NaN</td>\n",
       "      <td>NaN</td>\n",
       "      <td>NaN</td>\n",
       "      <td>NaN</td>\n",
       "      <td>NaN</td>\n",
       "      <td>NaN</td>\n",
       "      <td>NaN</td>\n",
       "      <td>NaN</td>\n",
       "      <td>NaN</td>\n",
       "      <td>NaN</td>\n",
       "      <td>NaN</td>\n",
       "      <td>NaN</td>\n",
       "      <td>Cash</td>\n",
       "      <td>N</td>\n",
       "      <td>NaN</td>\n",
       "      <td>NaN</td>\n",
       "      <td>NaN</td>\n",
       "      <td>NaN</td>\n",
       "      <td>NaN</td>\n",
       "      <td>NaN</td>\n",
       "    </tr>\n",
       "    <tr>\n",
       "      <th>2</th>\n",
       "      <td>68341763</td>\n",
       "      <td>NaN</td>\n",
       "      <td>20000.0</td>\n",
       "      <td>20000.0</td>\n",
       "      <td>20000.0</td>\n",
       "      <td>60 months</td>\n",
       "      <td>10.78</td>\n",
       "      <td>432.66</td>\n",
       "      <td>B</td>\n",
       "      <td>B4</td>\n",
       "      <td>truck driver</td>\n",
       "      <td>10+ years</td>\n",
       "      <td>MORTGAGE</td>\n",
       "      <td>63000.0</td>\n",
       "      <td>Not Verified</td>\n",
       "      <td>Dec-2015</td>\n",
       "      <td>Fully Paid</td>\n",
       "      <td>n</td>\n",
       "      <td>https://lendingclub.com/browse/loanDetail.acti...</td>\n",
       "      <td>NaN</td>\n",
       "      <td>home_improvement</td>\n",
       "      <td>NaN</td>\n",
       "      <td>605xx</td>\n",
       "      <td>IL</td>\n",
       "      <td>10.78</td>\n",
       "      <td>0.0</td>\n",
       "      <td>Aug-2000</td>\n",
       "      <td>695.0</td>\n",
       "      <td>699.0</td>\n",
       "      <td>0.0</td>\n",
       "      <td>NaN</td>\n",
       "      <td>NaN</td>\n",
       "      <td>6.0</td>\n",
       "      <td>0.0</td>\n",
       "      <td>7869.0</td>\n",
       "      <td>56.2</td>\n",
       "      <td>18.0</td>\n",
       "      <td>w</td>\n",
       "      <td>0.00</td>\n",
       "      <td>0.00</td>\n",
       "      <td>22705.924294</td>\n",
       "      <td>22705.92</td>\n",
       "      <td>20000.00</td>\n",
       "      <td>2705.92</td>\n",
       "      <td>0.0</td>\n",
       "      <td>0.0</td>\n",
       "      <td>0.0</td>\n",
       "      <td>Jun-2017</td>\n",
       "      <td>15813.30</td>\n",
       "      <td>NaN</td>\n",
       "      <td>Mar-2019</td>\n",
       "      <td>704.0</td>\n",
       "      <td>700.0</td>\n",
       "      <td>0.0</td>\n",
       "      <td>NaN</td>\n",
       "      <td>1.0</td>\n",
       "      <td>Joint App</td>\n",
       "      <td>71000.0</td>\n",
       "      <td>13.85</td>\n",
       "      <td>Not Verified</td>\n",
       "      <td>0.0</td>\n",
       "      <td>0.0</td>\n",
       "      <td>189699.0</td>\n",
       "      <td>0.0</td>\n",
       "      <td>1.0</td>\n",
       "      <td>0.0</td>\n",
       "      <td>4.0</td>\n",
       "      <td>19.0</td>\n",
       "      <td>10827.0</td>\n",
       "      <td>73.0</td>\n",
       "      <td>0.0</td>\n",
       "      <td>2.0</td>\n",
       "      <td>2081.0</td>\n",
       "      <td>65.0</td>\n",
       "      <td>14000.0</td>\n",
       "      <td>2.0</td>\n",
       "      <td>5.0</td>\n",
       "      <td>1.0</td>\n",
       "      <td>6.0</td>\n",
       "      <td>31617.0</td>\n",
       "      <td>2737.0</td>\n",
       "      <td>55.9</td>\n",
       "      <td>0.0</td>\n",
       "      <td>0.0</td>\n",
       "      <td>125.0</td>\n",
       "      <td>184.0</td>\n",
       "      <td>14.0</td>\n",
       "      <td>14.0</td>\n",
       "      <td>5.0</td>\n",
       "      <td>101.0</td>\n",
       "      <td>NaN</td>\n",
       "      <td>10.0</td>\n",
       "      <td>NaN</td>\n",
       "      <td>0.0</td>\n",
       "      <td>2.0</td>\n",
       "      <td>3.0</td>\n",
       "      <td>2.0</td>\n",
       "      <td>4.0</td>\n",
       "      <td>6.0</td>\n",
       "      <td>4.0</td>\n",
       "      <td>7.0</td>\n",
       "      <td>3.0</td>\n",
       "      <td>6.0</td>\n",
       "      <td>0.0</td>\n",
       "      <td>0.0</td>\n",
       "      <td>0.0</td>\n",
       "      <td>0.0</td>\n",
       "      <td>100.0</td>\n",
       "      <td>50.0</td>\n",
       "      <td>0.0</td>\n",
       "      <td>0.0</td>\n",
       "      <td>218418.0</td>\n",
       "      <td>18696.0</td>\n",
       "      <td>6200.0</td>\n",
       "      <td>14877.0</td>\n",
       "      <td>NaN</td>\n",
       "      <td>NaN</td>\n",
       "      <td>NaN</td>\n",
       "      <td>NaN</td>\n",
       "      <td>NaN</td>\n",
       "      <td>NaN</td>\n",
       "      <td>NaN</td>\n",
       "      <td>NaN</td>\n",
       "      <td>NaN</td>\n",
       "      <td>NaN</td>\n",
       "      <td>NaN</td>\n",
       "      <td>NaN</td>\n",
       "      <td>NaN</td>\n",
       "      <td>N</td>\n",
       "      <td>NaN</td>\n",
       "      <td>NaN</td>\n",
       "      <td>NaN</td>\n",
       "      <td>NaN</td>\n",
       "      <td>NaN</td>\n",
       "      <td>NaN</td>\n",
       "      <td>NaN</td>\n",
       "      <td>NaN</td>\n",
       "      <td>NaN</td>\n",
       "      <td>NaN</td>\n",
       "      <td>NaN</td>\n",
       "      <td>NaN</td>\n",
       "      <td>NaN</td>\n",
       "      <td>NaN</td>\n",
       "      <td>Cash</td>\n",
       "      <td>N</td>\n",
       "      <td>NaN</td>\n",
       "      <td>NaN</td>\n",
       "      <td>NaN</td>\n",
       "      <td>NaN</td>\n",
       "      <td>NaN</td>\n",
       "      <td>NaN</td>\n",
       "    </tr>\n",
       "    <tr>\n",
       "      <th>3</th>\n",
       "      <td>66310712</td>\n",
       "      <td>NaN</td>\n",
       "      <td>35000.0</td>\n",
       "      <td>35000.0</td>\n",
       "      <td>35000.0</td>\n",
       "      <td>60 months</td>\n",
       "      <td>14.85</td>\n",
       "      <td>829.90</td>\n",
       "      <td>C</td>\n",
       "      <td>C5</td>\n",
       "      <td>Information Systems Officer</td>\n",
       "      <td>10+ years</td>\n",
       "      <td>MORTGAGE</td>\n",
       "      <td>110000.0</td>\n",
       "      <td>Source Verified</td>\n",
       "      <td>Dec-2015</td>\n",
       "      <td>Current</td>\n",
       "      <td>n</td>\n",
       "      <td>https://lendingclub.com/browse/loanDetail.acti...</td>\n",
       "      <td>NaN</td>\n",
       "      <td>debt_consolidation</td>\n",
       "      <td>Debt consolidation</td>\n",
       "      <td>076xx</td>\n",
       "      <td>NJ</td>\n",
       "      <td>17.06</td>\n",
       "      <td>0.0</td>\n",
       "      <td>Sep-2008</td>\n",
       "      <td>785.0</td>\n",
       "      <td>789.0</td>\n",
       "      <td>0.0</td>\n",
       "      <td>NaN</td>\n",
       "      <td>NaN</td>\n",
       "      <td>13.0</td>\n",
       "      <td>0.0</td>\n",
       "      <td>7802.0</td>\n",
       "      <td>11.6</td>\n",
       "      <td>17.0</td>\n",
       "      <td>w</td>\n",
       "      <td>15897.65</td>\n",
       "      <td>15897.65</td>\n",
       "      <td>31464.010000</td>\n",
       "      <td>31464.01</td>\n",
       "      <td>19102.35</td>\n",
       "      <td>12361.66</td>\n",
       "      <td>0.0</td>\n",
       "      <td>0.0</td>\n",
       "      <td>0.0</td>\n",
       "      <td>Feb-2019</td>\n",
       "      <td>829.90</td>\n",
       "      <td>Apr-2019</td>\n",
       "      <td>Mar-2019</td>\n",
       "      <td>679.0</td>\n",
       "      <td>675.0</td>\n",
       "      <td>0.0</td>\n",
       "      <td>NaN</td>\n",
       "      <td>1.0</td>\n",
       "      <td>Individual</td>\n",
       "      <td>NaN</td>\n",
       "      <td>NaN</td>\n",
       "      <td>NaN</td>\n",
       "      <td>0.0</td>\n",
       "      <td>0.0</td>\n",
       "      <td>301500.0</td>\n",
       "      <td>1.0</td>\n",
       "      <td>1.0</td>\n",
       "      <td>0.0</td>\n",
       "      <td>1.0</td>\n",
       "      <td>23.0</td>\n",
       "      <td>12609.0</td>\n",
       "      <td>70.0</td>\n",
       "      <td>1.0</td>\n",
       "      <td>1.0</td>\n",
       "      <td>6987.0</td>\n",
       "      <td>45.0</td>\n",
       "      <td>67300.0</td>\n",
       "      <td>0.0</td>\n",
       "      <td>1.0</td>\n",
       "      <td>0.0</td>\n",
       "      <td>2.0</td>\n",
       "      <td>23192.0</td>\n",
       "      <td>54962.0</td>\n",
       "      <td>12.1</td>\n",
       "      <td>0.0</td>\n",
       "      <td>0.0</td>\n",
       "      <td>36.0</td>\n",
       "      <td>87.0</td>\n",
       "      <td>2.0</td>\n",
       "      <td>2.0</td>\n",
       "      <td>1.0</td>\n",
       "      <td>2.0</td>\n",
       "      <td>NaN</td>\n",
       "      <td>NaN</td>\n",
       "      <td>NaN</td>\n",
       "      <td>0.0</td>\n",
       "      <td>4.0</td>\n",
       "      <td>5.0</td>\n",
       "      <td>8.0</td>\n",
       "      <td>10.0</td>\n",
       "      <td>2.0</td>\n",
       "      <td>10.0</td>\n",
       "      <td>13.0</td>\n",
       "      <td>5.0</td>\n",
       "      <td>13.0</td>\n",
       "      <td>0.0</td>\n",
       "      <td>0.0</td>\n",
       "      <td>0.0</td>\n",
       "      <td>1.0</td>\n",
       "      <td>100.0</td>\n",
       "      <td>0.0</td>\n",
       "      <td>0.0</td>\n",
       "      <td>0.0</td>\n",
       "      <td>381215.0</td>\n",
       "      <td>52226.0</td>\n",
       "      <td>62500.0</td>\n",
       "      <td>18000.0</td>\n",
       "      <td>NaN</td>\n",
       "      <td>NaN</td>\n",
       "      <td>NaN</td>\n",
       "      <td>NaN</td>\n",
       "      <td>NaN</td>\n",
       "      <td>NaN</td>\n",
       "      <td>NaN</td>\n",
       "      <td>NaN</td>\n",
       "      <td>NaN</td>\n",
       "      <td>NaN</td>\n",
       "      <td>NaN</td>\n",
       "      <td>NaN</td>\n",
       "      <td>NaN</td>\n",
       "      <td>N</td>\n",
       "      <td>NaN</td>\n",
       "      <td>NaN</td>\n",
       "      <td>NaN</td>\n",
       "      <td>NaN</td>\n",
       "      <td>NaN</td>\n",
       "      <td>NaN</td>\n",
       "      <td>NaN</td>\n",
       "      <td>NaN</td>\n",
       "      <td>NaN</td>\n",
       "      <td>NaN</td>\n",
       "      <td>NaN</td>\n",
       "      <td>NaN</td>\n",
       "      <td>NaN</td>\n",
       "      <td>NaN</td>\n",
       "      <td>Cash</td>\n",
       "      <td>N</td>\n",
       "      <td>NaN</td>\n",
       "      <td>NaN</td>\n",
       "      <td>NaN</td>\n",
       "      <td>NaN</td>\n",
       "      <td>NaN</td>\n",
       "      <td>NaN</td>\n",
       "    </tr>\n",
       "    <tr>\n",
       "      <th>4</th>\n",
       "      <td>68476807</td>\n",
       "      <td>NaN</td>\n",
       "      <td>10400.0</td>\n",
       "      <td>10400.0</td>\n",
       "      <td>10400.0</td>\n",
       "      <td>60 months</td>\n",
       "      <td>22.45</td>\n",
       "      <td>289.91</td>\n",
       "      <td>F</td>\n",
       "      <td>F1</td>\n",
       "      <td>Contract Specialist</td>\n",
       "      <td>3 years</td>\n",
       "      <td>MORTGAGE</td>\n",
       "      <td>104433.0</td>\n",
       "      <td>Source Verified</td>\n",
       "      <td>Dec-2015</td>\n",
       "      <td>Fully Paid</td>\n",
       "      <td>n</td>\n",
       "      <td>https://lendingclub.com/browse/loanDetail.acti...</td>\n",
       "      <td>NaN</td>\n",
       "      <td>major_purchase</td>\n",
       "      <td>Major purchase</td>\n",
       "      <td>174xx</td>\n",
       "      <td>PA</td>\n",
       "      <td>25.37</td>\n",
       "      <td>1.0</td>\n",
       "      <td>Jun-1998</td>\n",
       "      <td>695.0</td>\n",
       "      <td>699.0</td>\n",
       "      <td>3.0</td>\n",
       "      <td>12.0</td>\n",
       "      <td>NaN</td>\n",
       "      <td>12.0</td>\n",
       "      <td>0.0</td>\n",
       "      <td>21929.0</td>\n",
       "      <td>64.5</td>\n",
       "      <td>35.0</td>\n",
       "      <td>w</td>\n",
       "      <td>0.00</td>\n",
       "      <td>0.00</td>\n",
       "      <td>11740.500000</td>\n",
       "      <td>11740.50</td>\n",
       "      <td>10400.00</td>\n",
       "      <td>1340.50</td>\n",
       "      <td>0.0</td>\n",
       "      <td>0.0</td>\n",
       "      <td>0.0</td>\n",
       "      <td>Jul-2016</td>\n",
       "      <td>10128.96</td>\n",
       "      <td>NaN</td>\n",
       "      <td>Mar-2018</td>\n",
       "      <td>704.0</td>\n",
       "      <td>700.0</td>\n",
       "      <td>0.0</td>\n",
       "      <td>NaN</td>\n",
       "      <td>1.0</td>\n",
       "      <td>Individual</td>\n",
       "      <td>NaN</td>\n",
       "      <td>NaN</td>\n",
       "      <td>NaN</td>\n",
       "      <td>0.0</td>\n",
       "      <td>0.0</td>\n",
       "      <td>331730.0</td>\n",
       "      <td>1.0</td>\n",
       "      <td>3.0</td>\n",
       "      <td>0.0</td>\n",
       "      <td>3.0</td>\n",
       "      <td>14.0</td>\n",
       "      <td>73839.0</td>\n",
       "      <td>84.0</td>\n",
       "      <td>4.0</td>\n",
       "      <td>7.0</td>\n",
       "      <td>9702.0</td>\n",
       "      <td>78.0</td>\n",
       "      <td>34000.0</td>\n",
       "      <td>2.0</td>\n",
       "      <td>1.0</td>\n",
       "      <td>3.0</td>\n",
       "      <td>10.0</td>\n",
       "      <td>27644.0</td>\n",
       "      <td>4567.0</td>\n",
       "      <td>77.5</td>\n",
       "      <td>0.0</td>\n",
       "      <td>0.0</td>\n",
       "      <td>128.0</td>\n",
       "      <td>210.0</td>\n",
       "      <td>4.0</td>\n",
       "      <td>4.0</td>\n",
       "      <td>6.0</td>\n",
       "      <td>4.0</td>\n",
       "      <td>12.0</td>\n",
       "      <td>1.0</td>\n",
       "      <td>12.0</td>\n",
       "      <td>0.0</td>\n",
       "      <td>4.0</td>\n",
       "      <td>6.0</td>\n",
       "      <td>5.0</td>\n",
       "      <td>9.0</td>\n",
       "      <td>10.0</td>\n",
       "      <td>7.0</td>\n",
       "      <td>19.0</td>\n",
       "      <td>6.0</td>\n",
       "      <td>12.0</td>\n",
       "      <td>0.0</td>\n",
       "      <td>0.0</td>\n",
       "      <td>0.0</td>\n",
       "      <td>4.0</td>\n",
       "      <td>96.6</td>\n",
       "      <td>60.0</td>\n",
       "      <td>0.0</td>\n",
       "      <td>0.0</td>\n",
       "      <td>439570.0</td>\n",
       "      <td>95768.0</td>\n",
       "      <td>20300.0</td>\n",
       "      <td>88097.0</td>\n",
       "      <td>NaN</td>\n",
       "      <td>NaN</td>\n",
       "      <td>NaN</td>\n",
       "      <td>NaN</td>\n",
       "      <td>NaN</td>\n",
       "      <td>NaN</td>\n",
       "      <td>NaN</td>\n",
       "      <td>NaN</td>\n",
       "      <td>NaN</td>\n",
       "      <td>NaN</td>\n",
       "      <td>NaN</td>\n",
       "      <td>NaN</td>\n",
       "      <td>NaN</td>\n",
       "      <td>N</td>\n",
       "      <td>NaN</td>\n",
       "      <td>NaN</td>\n",
       "      <td>NaN</td>\n",
       "      <td>NaN</td>\n",
       "      <td>NaN</td>\n",
       "      <td>NaN</td>\n",
       "      <td>NaN</td>\n",
       "      <td>NaN</td>\n",
       "      <td>NaN</td>\n",
       "      <td>NaN</td>\n",
       "      <td>NaN</td>\n",
       "      <td>NaN</td>\n",
       "      <td>NaN</td>\n",
       "      <td>NaN</td>\n",
       "      <td>Cash</td>\n",
       "      <td>N</td>\n",
       "      <td>NaN</td>\n",
       "      <td>NaN</td>\n",
       "      <td>NaN</td>\n",
       "      <td>NaN</td>\n",
       "      <td>NaN</td>\n",
       "      <td>NaN</td>\n",
       "    </tr>\n",
       "  </tbody>\n",
       "</table>\n",
       "</div>"
      ],
      "text/plain": [
       "         id  member_id  loan_amnt  funded_amnt  funded_amnt_inv        term  \\\n",
       "0  68407277        NaN     3600.0       3600.0           3600.0   36 months   \n",
       "1  68355089        NaN    24700.0      24700.0          24700.0   36 months   \n",
       "2  68341763        NaN    20000.0      20000.0          20000.0   60 months   \n",
       "3  66310712        NaN    35000.0      35000.0          35000.0   60 months   \n",
       "4  68476807        NaN    10400.0      10400.0          10400.0   60 months   \n",
       "\n",
       "   int_rate  installment grade sub_grade                    emp_title  \\\n",
       "0     13.99       123.03     C        C4                      leadman   \n",
       "1     11.99       820.28     C        C1                     Engineer   \n",
       "2     10.78       432.66     B        B4                 truck driver   \n",
       "3     14.85       829.90     C        C5  Information Systems Officer   \n",
       "4     22.45       289.91     F        F1          Contract Specialist   \n",
       "\n",
       "  emp_length home_ownership  annual_inc verification_status   issue_d  \\\n",
       "0  10+ years       MORTGAGE     55000.0        Not Verified  Dec-2015   \n",
       "1  10+ years       MORTGAGE     65000.0        Not Verified  Dec-2015   \n",
       "2  10+ years       MORTGAGE     63000.0        Not Verified  Dec-2015   \n",
       "3  10+ years       MORTGAGE    110000.0     Source Verified  Dec-2015   \n",
       "4    3 years       MORTGAGE    104433.0     Source Verified  Dec-2015   \n",
       "\n",
       "  loan_status pymnt_plan                                                url  \\\n",
       "0  Fully Paid          n  https://lendingclub.com/browse/loanDetail.acti...   \n",
       "1  Fully Paid          n  https://lendingclub.com/browse/loanDetail.acti...   \n",
       "2  Fully Paid          n  https://lendingclub.com/browse/loanDetail.acti...   \n",
       "3     Current          n  https://lendingclub.com/browse/loanDetail.acti...   \n",
       "4  Fully Paid          n  https://lendingclub.com/browse/loanDetail.acti...   \n",
       "\n",
       "  desc             purpose               title zip_code addr_state    dti  \\\n",
       "0  NaN  debt_consolidation  Debt consolidation    190xx         PA   5.91   \n",
       "1  NaN      small_business            Business    577xx         SD  16.06   \n",
       "2  NaN    home_improvement                 NaN    605xx         IL  10.78   \n",
       "3  NaN  debt_consolidation  Debt consolidation    076xx         NJ  17.06   \n",
       "4  NaN      major_purchase      Major purchase    174xx         PA  25.37   \n",
       "\n",
       "   delinq_2yrs earliest_cr_line  fico_range_low  fico_range_high  \\\n",
       "0          0.0         Aug-2003           675.0            679.0   \n",
       "1          1.0         Dec-1999           715.0            719.0   \n",
       "2          0.0         Aug-2000           695.0            699.0   \n",
       "3          0.0         Sep-2008           785.0            789.0   \n",
       "4          1.0         Jun-1998           695.0            699.0   \n",
       "\n",
       "   inq_last_6mths  mths_since_last_delinq  mths_since_last_record  open_acc  \\\n",
       "0             1.0                    30.0                     NaN       7.0   \n",
       "1             4.0                     6.0                     NaN      22.0   \n",
       "2             0.0                     NaN                     NaN       6.0   \n",
       "3             0.0                     NaN                     NaN      13.0   \n",
       "4             3.0                    12.0                     NaN      12.0   \n",
       "\n",
       "   pub_rec  revol_bal  revol_util  total_acc initial_list_status  out_prncp  \\\n",
       "0      0.0     2765.0        29.7       13.0                   w       0.00   \n",
       "1      0.0    21470.0        19.2       38.0                   w       0.00   \n",
       "2      0.0     7869.0        56.2       18.0                   w       0.00   \n",
       "3      0.0     7802.0        11.6       17.0                   w   15897.65   \n",
       "4      0.0    21929.0        64.5       35.0                   w       0.00   \n",
       "\n",
       "   out_prncp_inv   total_pymnt  total_pymnt_inv  total_rec_prncp  \\\n",
       "0           0.00   4421.723917          4421.72          3600.00   \n",
       "1           0.00  25679.660000         25679.66         24700.00   \n",
       "2           0.00  22705.924294         22705.92         20000.00   \n",
       "3       15897.65  31464.010000         31464.01         19102.35   \n",
       "4           0.00  11740.500000         11740.50         10400.00   \n",
       "\n",
       "   total_rec_int  total_rec_late_fee  recoveries  collection_recovery_fee  \\\n",
       "0         821.72                 0.0         0.0                      0.0   \n",
       "1         979.66                 0.0         0.0                      0.0   \n",
       "2        2705.92                 0.0         0.0                      0.0   \n",
       "3       12361.66                 0.0         0.0                      0.0   \n",
       "4        1340.50                 0.0         0.0                      0.0   \n",
       "\n",
       "  last_pymnt_d  last_pymnt_amnt next_pymnt_d last_credit_pull_d  \\\n",
       "0     Jan-2019           122.67          NaN           Mar-2019   \n",
       "1     Jun-2016           926.35          NaN           Mar-2019   \n",
       "2     Jun-2017         15813.30          NaN           Mar-2019   \n",
       "3     Feb-2019           829.90     Apr-2019           Mar-2019   \n",
       "4     Jul-2016         10128.96          NaN           Mar-2018   \n",
       "\n",
       "   last_fico_range_high  last_fico_range_low  collections_12_mths_ex_med  \\\n",
       "0                 564.0                560.0                         0.0   \n",
       "1                 699.0                695.0                         0.0   \n",
       "2                 704.0                700.0                         0.0   \n",
       "3                 679.0                675.0                         0.0   \n",
       "4                 704.0                700.0                         0.0   \n",
       "\n",
       "   mths_since_last_major_derog  policy_code application_type  \\\n",
       "0                         30.0          1.0       Individual   \n",
       "1                          NaN          1.0       Individual   \n",
       "2                          NaN          1.0        Joint App   \n",
       "3                          NaN          1.0       Individual   \n",
       "4                          NaN          1.0       Individual   \n",
       "\n",
       "   annual_inc_joint  dti_joint verification_status_joint  acc_now_delinq  \\\n",
       "0               NaN        NaN                       NaN             0.0   \n",
       "1               NaN        NaN                       NaN             0.0   \n",
       "2           71000.0      13.85              Not Verified             0.0   \n",
       "3               NaN        NaN                       NaN             0.0   \n",
       "4               NaN        NaN                       NaN             0.0   \n",
       "\n",
       "   tot_coll_amt  tot_cur_bal  open_acc_6m  open_act_il  open_il_12m  \\\n",
       "0         722.0     144904.0          2.0          2.0          0.0   \n",
       "1           0.0     204396.0          1.0          1.0          0.0   \n",
       "2           0.0     189699.0          0.0          1.0          0.0   \n",
       "3           0.0     301500.0          1.0          1.0          0.0   \n",
       "4           0.0     331730.0          1.0          3.0          0.0   \n",
       "\n",
       "   open_il_24m  mths_since_rcnt_il  total_bal_il  il_util  open_rv_12m  \\\n",
       "0          1.0                21.0        4981.0     36.0          3.0   \n",
       "1          1.0                19.0       18005.0     73.0          2.0   \n",
       "2          4.0                19.0       10827.0     73.0          0.0   \n",
       "3          1.0                23.0       12609.0     70.0          1.0   \n",
       "4          3.0                14.0       73839.0     84.0          4.0   \n",
       "\n",
       "   open_rv_24m  max_bal_bc  all_util  total_rev_hi_lim  inq_fi  total_cu_tl  \\\n",
       "0          3.0       722.0      34.0            9300.0     3.0          1.0   \n",
       "1          3.0      6472.0      29.0          111800.0     0.0          0.0   \n",
       "2          2.0      2081.0      65.0           14000.0     2.0          5.0   \n",
       "3          1.0      6987.0      45.0           67300.0     0.0          1.0   \n",
       "4          7.0      9702.0      78.0           34000.0     2.0          1.0   \n",
       "\n",
       "   inq_last_12m  acc_open_past_24mths  avg_cur_bal  bc_open_to_buy  bc_util  \\\n",
       "0           4.0                   4.0      20701.0          1506.0     37.2   \n",
       "1           6.0                   4.0       9733.0         57830.0     27.1   \n",
       "2           1.0                   6.0      31617.0          2737.0     55.9   \n",
       "3           0.0                   2.0      23192.0         54962.0     12.1   \n",
       "4           3.0                  10.0      27644.0          4567.0     77.5   \n",
       "\n",
       "   chargeoff_within_12_mths  delinq_amnt  mo_sin_old_il_acct  \\\n",
       "0                       0.0          0.0               148.0   \n",
       "1                       0.0          0.0               113.0   \n",
       "2                       0.0          0.0               125.0   \n",
       "3                       0.0          0.0                36.0   \n",
       "4                       0.0          0.0               128.0   \n",
       "\n",
       "   mo_sin_old_rev_tl_op  mo_sin_rcnt_rev_tl_op  mo_sin_rcnt_tl  mort_acc  \\\n",
       "0                 128.0                    3.0             3.0       1.0   \n",
       "1                 192.0                    2.0             2.0       4.0   \n",
       "2                 184.0                   14.0            14.0       5.0   \n",
       "3                  87.0                    2.0             2.0       1.0   \n",
       "4                 210.0                    4.0             4.0       6.0   \n",
       "\n",
       "   mths_since_recent_bc  mths_since_recent_bc_dlq  mths_since_recent_inq  \\\n",
       "0                   4.0                      69.0                    4.0   \n",
       "1                   2.0                       NaN                    0.0   \n",
       "2                 101.0                       NaN                   10.0   \n",
       "3                   2.0                       NaN                    NaN   \n",
       "4                   4.0                      12.0                    1.0   \n",
       "\n",
       "   mths_since_recent_revol_delinq  num_accts_ever_120_pd  num_actv_bc_tl  \\\n",
       "0                            69.0                    2.0             2.0   \n",
       "1                             6.0                    0.0             5.0   \n",
       "2                             NaN                    0.0             2.0   \n",
       "3                             NaN                    0.0             4.0   \n",
       "4                            12.0                    0.0             4.0   \n",
       "\n",
       "   num_actv_rev_tl  num_bc_sats  num_bc_tl  num_il_tl  num_op_rev_tl  \\\n",
       "0              4.0          2.0        5.0        3.0            4.0   \n",
       "1              5.0         13.0       17.0        6.0           20.0   \n",
       "2              3.0          2.0        4.0        6.0            4.0   \n",
       "3              5.0          8.0       10.0        2.0           10.0   \n",
       "4              6.0          5.0        9.0       10.0            7.0   \n",
       "\n",
       "   num_rev_accts  num_rev_tl_bal_gt_0  num_sats  num_tl_120dpd_2m  \\\n",
       "0            9.0                  4.0       7.0               0.0   \n",
       "1           27.0                  5.0      22.0               0.0   \n",
       "2            7.0                  3.0       6.0               0.0   \n",
       "3           13.0                  5.0      13.0               0.0   \n",
       "4           19.0                  6.0      12.0               0.0   \n",
       "\n",
       "   num_tl_30dpd  num_tl_90g_dpd_24m  num_tl_op_past_12m  pct_tl_nvr_dlq  \\\n",
       "0           0.0                 0.0                 3.0            76.9   \n",
       "1           0.0                 0.0                 2.0            97.4   \n",
       "2           0.0                 0.0                 0.0           100.0   \n",
       "3           0.0                 0.0                 1.0           100.0   \n",
       "4           0.0                 0.0                 4.0            96.6   \n",
       "\n",
       "   percent_bc_gt_75  pub_rec_bankruptcies  tax_liens  tot_hi_cred_lim  \\\n",
       "0               0.0                   0.0        0.0         178050.0   \n",
       "1               7.7                   0.0        0.0         314017.0   \n",
       "2              50.0                   0.0        0.0         218418.0   \n",
       "3               0.0                   0.0        0.0         381215.0   \n",
       "4              60.0                   0.0        0.0         439570.0   \n",
       "\n",
       "   total_bal_ex_mort  total_bc_limit  total_il_high_credit_limit  \\\n",
       "0             7746.0          2400.0                     13734.0   \n",
       "1            39475.0         79300.0                     24667.0   \n",
       "2            18696.0          6200.0                     14877.0   \n",
       "3            52226.0         62500.0                     18000.0   \n",
       "4            95768.0         20300.0                     88097.0   \n",
       "\n",
       "   revol_bal_joint  sec_app_fico_range_low  sec_app_fico_range_high  \\\n",
       "0              NaN                     NaN                      NaN   \n",
       "1              NaN                     NaN                      NaN   \n",
       "2              NaN                     NaN                      NaN   \n",
       "3              NaN                     NaN                      NaN   \n",
       "4              NaN                     NaN                      NaN   \n",
       "\n",
       "  sec_app_earliest_cr_line  sec_app_inq_last_6mths  sec_app_mort_acc  \\\n",
       "0                      NaN                     NaN               NaN   \n",
       "1                      NaN                     NaN               NaN   \n",
       "2                      NaN                     NaN               NaN   \n",
       "3                      NaN                     NaN               NaN   \n",
       "4                      NaN                     NaN               NaN   \n",
       "\n",
       "   sec_app_open_acc  sec_app_revol_util  sec_app_open_act_il  \\\n",
       "0               NaN                 NaN                  NaN   \n",
       "1               NaN                 NaN                  NaN   \n",
       "2               NaN                 NaN                  NaN   \n",
       "3               NaN                 NaN                  NaN   \n",
       "4               NaN                 NaN                  NaN   \n",
       "\n",
       "   sec_app_num_rev_accts  sec_app_chargeoff_within_12_mths  \\\n",
       "0                    NaN                               NaN   \n",
       "1                    NaN                               NaN   \n",
       "2                    NaN                               NaN   \n",
       "3                    NaN                               NaN   \n",
       "4                    NaN                               NaN   \n",
       "\n",
       "   sec_app_collections_12_mths_ex_med  sec_app_mths_since_last_major_derog  \\\n",
       "0                                 NaN                                  NaN   \n",
       "1                                 NaN                                  NaN   \n",
       "2                                 NaN                                  NaN   \n",
       "3                                 NaN                                  NaN   \n",
       "4                                 NaN                                  NaN   \n",
       "\n",
       "  hardship_flag hardship_type hardship_reason hardship_status  deferral_term  \\\n",
       "0             N           NaN             NaN             NaN            NaN   \n",
       "1             N           NaN             NaN             NaN            NaN   \n",
       "2             N           NaN             NaN             NaN            NaN   \n",
       "3             N           NaN             NaN             NaN            NaN   \n",
       "4             N           NaN             NaN             NaN            NaN   \n",
       "\n",
       "   hardship_amount hardship_start_date hardship_end_date  \\\n",
       "0              NaN                 NaN               NaN   \n",
       "1              NaN                 NaN               NaN   \n",
       "2              NaN                 NaN               NaN   \n",
       "3              NaN                 NaN               NaN   \n",
       "4              NaN                 NaN               NaN   \n",
       "\n",
       "  payment_plan_start_date  hardship_length  hardship_dpd hardship_loan_status  \\\n",
       "0                     NaN              NaN           NaN                  NaN   \n",
       "1                     NaN              NaN           NaN                  NaN   \n",
       "2                     NaN              NaN           NaN                  NaN   \n",
       "3                     NaN              NaN           NaN                  NaN   \n",
       "4                     NaN              NaN           NaN                  NaN   \n",
       "\n",
       "   orig_projected_additional_accrued_interest  hardship_payoff_balance_amount  \\\n",
       "0                                         NaN                             NaN   \n",
       "1                                         NaN                             NaN   \n",
       "2                                         NaN                             NaN   \n",
       "3                                         NaN                             NaN   \n",
       "4                                         NaN                             NaN   \n",
       "\n",
       "   hardship_last_payment_amount disbursement_method debt_settlement_flag  \\\n",
       "0                           NaN                Cash                    N   \n",
       "1                           NaN                Cash                    N   \n",
       "2                           NaN                Cash                    N   \n",
       "3                           NaN                Cash                    N   \n",
       "4                           NaN                Cash                    N   \n",
       "\n",
       "  debt_settlement_flag_date settlement_status settlement_date  \\\n",
       "0                       NaN               NaN             NaN   \n",
       "1                       NaN               NaN             NaN   \n",
       "2                       NaN               NaN             NaN   \n",
       "3                       NaN               NaN             NaN   \n",
       "4                       NaN               NaN             NaN   \n",
       "\n",
       "   settlement_amount  settlement_percentage  settlement_term  \n",
       "0                NaN                    NaN              NaN  \n",
       "1                NaN                    NaN              NaN  \n",
       "2                NaN                    NaN              NaN  \n",
       "3                NaN                    NaN              NaN  \n",
       "4                NaN                    NaN              NaN  "
      ]
     },
     "execution_count": 10,
     "metadata": {},
     "output_type": "execute_result"
    }
   ],
   "source": [
    "acc_df.head()"
   ]
  },
  {
   "cell_type": "code",
   "execution_count": 11,
   "id": "6fae0594",
   "metadata": {},
   "outputs": [],
   "source": [
    "#rej_df.head()"
   ]
  },
  {
   "cell_type": "markdown",
   "id": "4a4f9778",
   "metadata": {},
   "source": [
    "Firstly, lets explore the quality of accepted loans. Therefore, we will be using `acc_df` DataFrame to learn about the different characteristics of the good vs defaulted loans."
   ]
  },
  {
   "cell_type": "markdown",
   "id": "f18a05cf",
   "metadata": {},
   "source": [
    "# 2. Target Variable"
   ]
  },
  {
   "cell_type": "code",
   "execution_count": 12,
   "id": "054a67e9",
   "metadata": {},
   "outputs": [
    {
     "data": {
      "text/plain": [
       "Fully Paid                                             1076751\n",
       "Current                                                 878317\n",
       "Charged Off                                             268559\n",
       "Late (31-120 days)                                       21467\n",
       "In Grace Period                                           8436\n",
       "Late (16-30 days)                                         4349\n",
       "Does not meet the credit policy. Status:Fully Paid        1988\n",
       "Does not meet the credit policy. Status:Charged Off        761\n",
       "Default                                                     40\n",
       "NaN                                                         33\n",
       "Name: loan_status, dtype: int64"
      ]
     },
     "execution_count": 12,
     "metadata": {},
     "output_type": "execute_result"
    }
   ],
   "source": [
    "acc_df['loan_status'].value_counts(dropna=False)"
   ]
  },
  {
   "cell_type": "markdown",
   "id": "e68a9ae7",
   "metadata": {},
   "source": [
    "Assigning 'Default', 'Charged Off', 'Does not meet the credit policy. Status:Charged Off' `loan_status` as bad loans and 'Fully Paid', 'Does not meet the credit policy. Status:Fully Paid' as good loans. Ignore the rest of the categories for now. "
   ]
  },
  {
   "cell_type": "code",
   "execution_count": 13,
   "id": "52c50153",
   "metadata": {},
   "outputs": [],
   "source": [
    "bad_loan_categories = ['Default', 'Charged Off', 'Does not meet the credit policy. Status:Charged Off']\n",
    "good_loan_categories = ['Fully Paid', 'Does not meet the credit policy. Status:Fully Paid']"
   ]
  },
  {
   "cell_type": "code",
   "execution_count": 14,
   "id": "16cd105e",
   "metadata": {},
   "outputs": [],
   "source": [
    "acc_df['loan_category'] = np.where(acc_df['loan_status'].isin(bad_loan_categories), 'bad',\n",
    "                                  np.where(acc_df['loan_status'].isin(good_loan_categories), 'good', 'remove'))"
   ]
  },
  {
   "cell_type": "code",
   "execution_count": 15,
   "id": "6f5706ca",
   "metadata": {},
   "outputs": [],
   "source": [
    "loans = acc_df[~(acc_df['loan_category']=='remove')]"
   ]
  },
  {
   "cell_type": "code",
   "execution_count": 16,
   "id": "95930fc3",
   "metadata": {},
   "outputs": [
    {
     "data": {
      "text/plain": [
       "(1348099, 152)"
      ]
     },
     "execution_count": 16,
     "metadata": {},
     "output_type": "execute_result"
    }
   ],
   "source": [
    "loans.shape"
   ]
  },
  {
   "cell_type": "code",
   "execution_count": 17,
   "id": "611f6c8f",
   "metadata": {},
   "outputs": [
    {
     "data": {
      "text/plain": [
       "good    1078739\n",
       "bad      269360\n",
       "Name: loan_category, dtype: int64"
      ]
     },
     "execution_count": 17,
     "metadata": {},
     "output_type": "execute_result"
    }
   ],
   "source": [
    "loans['loan_category'].value_counts()"
   ]
  },
  {
   "cell_type": "code",
   "execution_count": 18,
   "id": "5ad40a2e",
   "metadata": {},
   "outputs": [],
   "source": [
    "loans['loan_category_numeric'] = np.where(loans['loan_category']=='good',1,0)"
   ]
  },
  {
   "cell_type": "markdown",
   "id": "deb05f13",
   "metadata": {},
   "source": [
    "# 3. Important Features Selection"
   ]
  },
  {
   "cell_type": "markdown",
   "id": "a98cf4dc",
   "metadata": {},
   "source": [
    "Calculating the percentage of missing data"
   ]
  },
  {
   "cell_type": "code",
   "execution_count": 19,
   "id": "39ec6e12",
   "metadata": {},
   "outputs": [],
   "source": [
    "missing_fractions = loans.isnull().mean().sort_values(ascending=False)"
   ]
  },
  {
   "cell_type": "code",
   "execution_count": 20,
   "id": "4c572da4",
   "metadata": {},
   "outputs": [
    {
     "data": {
      "text/plain": [
       "member_id                                     1.000000\n",
       "next_pymnt_d                                  0.997931\n",
       "orig_projected_additional_accrued_interest    0.997210\n",
       "hardship_payoff_balance_amount                0.995730\n",
       "hardship_amount                               0.995730\n",
       "dtype: float64"
      ]
     },
     "execution_count": 20,
     "metadata": {},
     "output_type": "execute_result"
    }
   ],
   "source": [
    "missing_fractions.head()"
   ]
  },
  {
   "cell_type": "markdown",
   "id": "764faeb7",
   "metadata": {},
   "source": [
    "Visualizing the distribution of missing data"
   ]
  },
  {
   "cell_type": "code",
   "execution_count": 21,
   "id": "ec9a1928",
   "metadata": {},
   "outputs": [
    {
     "data": {
      "text/plain": [
       "Text(0, 0.5, 'Feature count')"
      ]
     },
     "execution_count": 21,
     "metadata": {},
     "output_type": "execute_result"
    },
    {
     "data": {
      "image/png": "[encoded data removed]",
      "text/plain": [
       "<Figure size 540x270 with 1 Axes>"
      ]
     },
     "metadata": {},
     "output_type": "display_data"
    }
   ],
   "source": [
    "plt.figure(figsize=(6,3), dpi=90)\n",
    "missing_fractions.plot.hist(bins=20)\n",
    "plt.title('Histogram of Feature Incompleteness')\n",
    "plt.xlabel('Fraction of data missing')\n",
    "plt.ylabel('Feature count')"
   ]
  },
  {
   "cell_type": "markdown",
   "id": "75183d36",
   "metadata": {},
   "source": [
    "Ignore the features with more than 20% missing data to limit the number of features."
   ]
  },
  {
   "cell_type": "code",
   "execution_count": 22,
   "id": "b0a338e1",
   "metadata": {},
   "outputs": [],
   "source": [
    "drop_list = sorted(list(missing_fractions[missing_fractions > 0.2].index))"
   ]
  },
  {
   "cell_type": "code",
   "execution_count": 23,
   "id": "da16d4ba",
   "metadata": {},
   "outputs": [
    {
     "data": {
      "text/plain": [
       "58"
      ]
     },
     "execution_count": 23,
     "metadata": {},
     "output_type": "execute_result"
    }
   ],
   "source": [
    "len(drop_list)"
   ]
  },
  {
   "cell_type": "markdown",
   "id": "a7afcf10",
   "metadata": {},
   "source": [
    "Dropping these features"
   ]
  },
  {
   "cell_type": "code",
   "execution_count": 24,
   "id": "7e202478",
   "metadata": {},
   "outputs": [],
   "source": [
    "loans.drop(labels=drop_list, axis=1, inplace=True)"
   ]
  },
  {
   "cell_type": "code",
   "execution_count": 25,
   "id": "6b14df5a",
   "metadata": {},
   "outputs": [
    {
     "data": {
      "text/plain": [
       "(1348099, 95)"
      ]
     },
     "execution_count": 25,
     "metadata": {},
     "output_type": "execute_result"
    }
   ],
   "source": [
    "loans.shape"
   ]
  },
  {
   "cell_type": "markdown",
   "id": "7803ab33",
   "metadata": {},
   "source": [
    "# 4. Exploratory Data Analysis"
   ]
  },
  {
   "cell_type": "markdown",
   "id": "2d8b24bc",
   "metadata": {},
   "source": [
    "Let's inspect some features individually which I feel are important for determining the loan category, and do the following:\n",
    "\n",
    " 1. View summary statistics and visualize the data, plotting against the loan category.\n",
    " 2. Modify the feature to make it useful for modeling, if necessary.\n",
    "\n",
    "Also, define a function for plotting a variable and comparing with the loan category:"
   ]
  },
  {
   "cell_type": "code",
   "execution_count": 26,
   "id": "924ca7b6",
   "metadata": {},
   "outputs": [],
   "source": [
    "eda = EDA(loans)"
   ]
  },
  {
   "cell_type": "code",
   "execution_count": 27,
   "id": "af58fda7",
   "metadata": {},
   "outputs": [],
   "source": [
    "categorical_features = list(loans.select_dtypes('object').columns)\n",
    "#categorical_features"
   ]
  },
  {
   "cell_type": "code",
   "execution_count": 28,
   "id": "c8f9b638",
   "metadata": {},
   "outputs": [],
   "source": [
    "numerical_features = list(loans.select_dtypes('number').columns)\n",
    "#numerical_features"
   ]
  },
  {
   "cell_type": "code",
   "execution_count": 29,
   "id": "8b2fff26",
   "metadata": {},
   "outputs": [],
   "source": [
    "numerical_features.remove('loan_category_numeric')"
   ]
  },
  {
   "cell_type": "markdown",
   "id": "571f3373",
   "metadata": {},
   "source": [
    "Computing Pearson correlation, F-statistic, and  p value of each predictor with the target varaible."
   ]
  },
  {
   "cell_type": "code",
   "execution_count": 30,
   "id": "58b45849",
   "metadata": {},
   "outputs": [],
   "source": [
    "linear_dep = pd.DataFrame()"
   ]
  },
  {
   "cell_type": "markdown",
   "id": "9578d828",
   "metadata": {},
   "source": [
    "Pearson correlations:"
   ]
  },
  {
   "cell_type": "code",
   "execution_count": 31,
   "id": "fc9b000c",
   "metadata": {},
   "outputs": [],
   "source": [
    "for col in numerical_features:\n",
    "    linear_dep.loc[col, 'pearson_corr'] = loans[col].corr(loans['loan_category_numeric'])\n",
    "    #print(col)\n",
    "linear_dep['abs_pearson_corr'] = abs(linear_dep['pearson_corr'])"
   ]
  },
  {
   "cell_type": "markdown",
   "id": "5c28c0f2",
   "metadata": {},
   "source": [
    "F- Statistic:"
   ]
  },
  {
   "cell_type": "code",
   "execution_count": 32,
   "id": "a0d74f22",
   "metadata": {},
   "outputs": [],
   "source": [
    "from sklearn.feature_selection import f_classif\n",
    "for col in numerical_features:\n",
    "    mask = loans[col].notnull()\n",
    "    (linear_dep.loc[col, 'F'], linear_dep.loc[col, 'p_value']) = f_classif(pd.DataFrame(loans.loc[mask, col]), loans['loan_category_numeric'].loc[mask])\n",
    "    "
   ]
  },
  {
   "cell_type": "markdown",
   "id": "df7e318b",
   "metadata": {},
   "source": [
    "Sort the results by the absolute value of the Pearson correlation:"
   ]
  },
  {
   "cell_type": "code",
   "execution_count": 33,
   "id": "9b167296",
   "metadata": {},
   "outputs": [],
   "source": [
    "linear_dep.sort_values('abs_pearson_corr', ascending=False, inplace=True)"
   ]
  },
  {
   "cell_type": "markdown",
   "id": "c5de2091",
   "metadata": {},
   "source": [
    "Reset the index:"
   ]
  },
  {
   "cell_type": "code",
   "execution_count": 34,
   "id": "b5316892",
   "metadata": {},
   "outputs": [],
   "source": [
    "linear_dep.reset_index(inplace=True)\n",
    "linear_dep.rename(columns={'index':'variable'}, inplace=True)"
   ]
  },
  {
   "cell_type": "markdown",
   "id": "418cce6f",
   "metadata": {},
   "source": [
    "View the results for the top 20 predictors most correlated with loan_category:"
   ]
  },
  {
   "cell_type": "code",
   "execution_count": 35,
   "id": "dbcbff55",
   "metadata": {},
   "outputs": [
    {
     "data": {
      "text/html": [
       "<div>\n",
       "<style scoped>\n",
       "    .dataframe tbody tr th:only-of-type {\n",
       "        vertical-align: middle;\n",
       "    }\n",
       "\n",
       "    .dataframe tbody tr th {\n",
       "        vertical-align: top;\n",
       "    }\n",
       "\n",
       "    .dataframe thead th {\n",
       "        text-align: right;\n",
       "    }\n",
       "</style>\n",
       "<table border=\"1\" class=\"dataframe\">\n",
       "  <thead>\n",
       "    <tr style=\"text-align: right;\">\n",
       "      <th></th>\n",
       "      <th>variable</th>\n",
       "      <th>pearson_corr</th>\n",
       "      <th>abs_pearson_corr</th>\n",
       "      <th>F</th>\n",
       "      <th>p_value</th>\n",
       "    </tr>\n",
       "  </thead>\n",
       "  <tbody>\n",
       "    <tr>\n",
       "      <th>0</th>\n",
       "      <td>last_fico_range_high</td>\n",
       "      <td>0.667146</td>\n",
       "      <td>0.667146</td>\n",
       "      <td>1.081274e+06</td>\n",
       "      <td>0.0</td>\n",
       "    </tr>\n",
       "    <tr>\n",
       "      <th>1</th>\n",
       "      <td>last_fico_range_low</td>\n",
       "      <td>0.575049</td>\n",
       "      <td>0.575049</td>\n",
       "      <td>6.660376e+05</td>\n",
       "      <td>0.0</td>\n",
       "    </tr>\n",
       "    <tr>\n",
       "      <th>2</th>\n",
       "      <td>recoveries</td>\n",
       "      <td>-0.504726</td>\n",
       "      <td>0.504726</td>\n",
       "      <td>4.608182e+05</td>\n",
       "      <td>0.0</td>\n",
       "    </tr>\n",
       "    <tr>\n",
       "      <th>3</th>\n",
       "      <td>collection_recovery_fee</td>\n",
       "      <td>-0.479063</td>\n",
       "      <td>0.479063</td>\n",
       "      <td>4.015447e+05</td>\n",
       "      <td>0.0</td>\n",
       "    </tr>\n",
       "    <tr>\n",
       "      <th>4</th>\n",
       "      <td>total_rec_prncp</td>\n",
       "      <td>0.438928</td>\n",
       "      <td>0.438928</td>\n",
       "      <td>3.216999e+05</td>\n",
       "      <td>0.0</td>\n",
       "    </tr>\n",
       "    <tr>\n",
       "      <th>5</th>\n",
       "      <td>last_pymnt_amnt</td>\n",
       "      <td>0.347247</td>\n",
       "      <td>0.347247</td>\n",
       "      <td>1.848420e+05</td>\n",
       "      <td>0.0</td>\n",
       "    </tr>\n",
       "    <tr>\n",
       "      <th>6</th>\n",
       "      <td>total_pymnt</td>\n",
       "      <td>0.315305</td>\n",
       "      <td>0.315305</td>\n",
       "      <td>1.488189e+05</td>\n",
       "      <td>0.0</td>\n",
       "    </tr>\n",
       "    <tr>\n",
       "      <th>7</th>\n",
       "      <td>total_pymnt_inv</td>\n",
       "      <td>0.314781</td>\n",
       "      <td>0.314781</td>\n",
       "      <td>1.482710e+05</td>\n",
       "      <td>0.0</td>\n",
       "    </tr>\n",
       "    <tr>\n",
       "      <th>8</th>\n",
       "      <td>int_rate</td>\n",
       "      <td>-0.258577</td>\n",
       "      <td>0.258577</td>\n",
       "      <td>9.659489e+04</td>\n",
       "      <td>0.0</td>\n",
       "    </tr>\n",
       "    <tr>\n",
       "      <th>9</th>\n",
       "      <td>total_rec_late_fee</td>\n",
       "      <td>-0.141104</td>\n",
       "      <td>0.141104</td>\n",
       "      <td>2.738648e+04</td>\n",
       "      <td>0.0</td>\n",
       "    </tr>\n",
       "    <tr>\n",
       "      <th>10</th>\n",
       "      <td>fico_range_low</td>\n",
       "      <td>0.130701</td>\n",
       "      <td>0.130701</td>\n",
       "      <td>2.342944e+04</td>\n",
       "      <td>0.0</td>\n",
       "    </tr>\n",
       "    <tr>\n",
       "      <th>11</th>\n",
       "      <td>fico_range_high</td>\n",
       "      <td>0.130700</td>\n",
       "      <td>0.130700</td>\n",
       "      <td>2.342897e+04</td>\n",
       "      <td>0.0</td>\n",
       "    </tr>\n",
       "    <tr>\n",
       "      <th>12</th>\n",
       "      <td>acc_open_past_24mths</td>\n",
       "      <td>-0.099873</td>\n",
       "      <td>0.099873</td>\n",
       "      <td>1.307813e+04</td>\n",
       "      <td>0.0</td>\n",
       "    </tr>\n",
       "    <tr>\n",
       "      <th>13</th>\n",
       "      <td>num_tl_op_past_12m</td>\n",
       "      <td>-0.085622</td>\n",
       "      <td>0.085622</td>\n",
       "      <td>9.437016e+03</td>\n",
       "      <td>0.0</td>\n",
       "    </tr>\n",
       "    <tr>\n",
       "      <th>14</th>\n",
       "      <td>dti</td>\n",
       "      <td>-0.084215</td>\n",
       "      <td>0.084215</td>\n",
       "      <td>9.626626e+03</td>\n",
       "      <td>0.0</td>\n",
       "    </tr>\n",
       "    <tr>\n",
       "      <th>15</th>\n",
       "      <td>bc_open_to_buy</td>\n",
       "      <td>0.082037</td>\n",
       "      <td>0.082037</td>\n",
       "      <td>8.701323e+03</td>\n",
       "      <td>0.0</td>\n",
       "    </tr>\n",
       "    <tr>\n",
       "      <th>16</th>\n",
       "      <td>avg_cur_bal</td>\n",
       "      <td>0.078922</td>\n",
       "      <td>0.078922</td>\n",
       "      <td>8.008966e+03</td>\n",
       "      <td>0.0</td>\n",
       "    </tr>\n",
       "    <tr>\n",
       "      <th>17</th>\n",
       "      <td>tot_hi_cred_lim</td>\n",
       "      <td>0.078474</td>\n",
       "      <td>0.078474</td>\n",
       "      <td>7.917772e+03</td>\n",
       "      <td>0.0</td>\n",
       "    </tr>\n",
       "    <tr>\n",
       "      <th>18</th>\n",
       "      <td>mort_acc</td>\n",
       "      <td>0.075303</td>\n",
       "      <td>0.075303</td>\n",
       "      <td>7.402666e+03</td>\n",
       "      <td>0.0</td>\n",
       "    </tr>\n",
       "    <tr>\n",
       "      <th>19</th>\n",
       "      <td>total_bc_limit</td>\n",
       "      <td>0.072172</td>\n",
       "      <td>0.072172</td>\n",
       "      <td>6.796812e+03</td>\n",
       "      <td>0.0</td>\n",
       "    </tr>\n",
       "  </tbody>\n",
       "</table>\n",
       "</div>"
      ],
      "text/plain": [
       "                   variable  pearson_corr  abs_pearson_corr             F  \\\n",
       "0      last_fico_range_high      0.667146          0.667146  1.081274e+06   \n",
       "1       last_fico_range_low      0.575049          0.575049  6.660376e+05   \n",
       "2                recoveries     -0.504726          0.504726  4.608182e+05   \n",
       "3   collection_recovery_fee     -0.479063          0.479063  4.015447e+05   \n",
       "4           total_rec_prncp      0.438928          0.438928  3.216999e+05   \n",
       "5           last_pymnt_amnt      0.347247          0.347247  1.848420e+05   \n",
       "6               total_pymnt      0.315305          0.315305  1.488189e+05   \n",
       "7           total_pymnt_inv      0.314781          0.314781  1.482710e+05   \n",
       "8                  int_rate     -0.258577          0.258577  9.659489e+04   \n",
       "9        total_rec_late_fee     -0.141104          0.141104  2.738648e+04   \n",
       "10           fico_range_low      0.130701          0.130701  2.342944e+04   \n",
       "11          fico_range_high      0.130700          0.130700  2.342897e+04   \n",
       "12     acc_open_past_24mths     -0.099873          0.099873  1.307813e+04   \n",
       "13       num_tl_op_past_12m     -0.085622          0.085622  9.437016e+03   \n",
       "14                      dti     -0.084215          0.084215  9.626626e+03   \n",
       "15           bc_open_to_buy      0.082037          0.082037  8.701323e+03   \n",
       "16              avg_cur_bal      0.078922          0.078922  8.008966e+03   \n",
       "17          tot_hi_cred_lim      0.078474          0.078474  7.917772e+03   \n",
       "18                 mort_acc      0.075303          0.075303  7.402666e+03   \n",
       "19           total_bc_limit      0.072172          0.072172  6.796812e+03   \n",
       "\n",
       "    p_value  \n",
       "0       0.0  \n",
       "1       0.0  \n",
       "2       0.0  \n",
       "3       0.0  \n",
       "4       0.0  \n",
       "5       0.0  \n",
       "6       0.0  \n",
       "7       0.0  \n",
       "8       0.0  \n",
       "9       0.0  \n",
       "10      0.0  \n",
       "11      0.0  \n",
       "12      0.0  \n",
       "13      0.0  \n",
       "14      0.0  \n",
       "15      0.0  \n",
       "16      0.0  \n",
       "17      0.0  \n",
       "18      0.0  \n",
       "19      0.0  "
      ]
     },
     "execution_count": 35,
     "metadata": {},
     "output_type": "execute_result"
    }
   ],
   "source": [
    "linear_dep.head(20)"
   ]
  },
  {
   "cell_type": "markdown",
   "id": "3ccc099f",
   "metadata": {},
   "source": [
    "Some of the top correlated features like `recoveries`, `collection_recovery_fee`, etc are features of the defaulted loan, therefore they will not be important to predict the loan status in adavce."
   ]
  },
  {
   "cell_type": "markdown",
   "id": "0a682a3d",
   "metadata": {},
   "source": [
    "Now view the results for the 20 least correlated predictors:"
   ]
  },
  {
   "cell_type": "code",
   "execution_count": 36,
   "id": "fdc6bb29",
   "metadata": {},
   "outputs": [
    {
     "data": {
      "text/html": [
       "<div>\n",
       "<style scoped>\n",
       "    .dataframe tbody tr th:only-of-type {\n",
       "        vertical-align: middle;\n",
       "    }\n",
       "\n",
       "    .dataframe tbody tr th {\n",
       "        vertical-align: top;\n",
       "    }\n",
       "\n",
       "    .dataframe thead th {\n",
       "        text-align: right;\n",
       "    }\n",
       "</style>\n",
       "<table border=\"1\" class=\"dataframe\">\n",
       "  <thead>\n",
       "    <tr style=\"text-align: right;\">\n",
       "      <th></th>\n",
       "      <th>variable</th>\n",
       "      <th>pearson_corr</th>\n",
       "      <th>abs_pearson_corr</th>\n",
       "      <th>F</th>\n",
       "      <th>p_value</th>\n",
       "    </tr>\n",
       "  </thead>\n",
       "  <tbody>\n",
       "    <tr>\n",
       "      <th>49</th>\n",
       "      <td>collections_12_mths_ex_med</td>\n",
       "      <td>-0.015981</td>\n",
       "      <td>0.015981</td>\n",
       "      <td>344.328976</td>\n",
       "      <td>7.442476e-77</td>\n",
       "    </tr>\n",
       "    <tr>\n",
       "      <th>50</th>\n",
       "      <td>num_bc_sats</td>\n",
       "      <td>-0.014222</td>\n",
       "      <td>0.014222</td>\n",
       "      <td>260.873414</td>\n",
       "      <td>1.121779e-58</td>\n",
       "    </tr>\n",
       "    <tr>\n",
       "      <th>51</th>\n",
       "      <td>total_acc</td>\n",
       "      <td>0.011412</td>\n",
       "      <td>0.011412</td>\n",
       "      <td>175.576674</td>\n",
       "      <td>4.505966e-40</td>\n",
       "    </tr>\n",
       "    <tr>\n",
       "      <th>52</th>\n",
       "      <td>pct_tl_nvr_dlq</td>\n",
       "      <td>0.010556</td>\n",
       "      <td>0.010556</td>\n",
       "      <td>142.391061</td>\n",
       "      <td>8.019022e-33</td>\n",
       "    </tr>\n",
       "    <tr>\n",
       "      <th>53</th>\n",
       "      <td>num_accts_ever_120_pd</td>\n",
       "      <td>-0.010370</td>\n",
       "      <td>0.010370</td>\n",
       "      <td>137.430809</td>\n",
       "      <td>9.743172e-32</td>\n",
       "    </tr>\n",
       "    <tr>\n",
       "      <th>54</th>\n",
       "      <td>num_tl_90g_dpd_24m</td>\n",
       "      <td>-0.009887</td>\n",
       "      <td>0.009887</td>\n",
       "      <td>124.931317</td>\n",
       "      <td>5.285080e-29</td>\n",
       "    </tr>\n",
       "    <tr>\n",
       "      <th>55</th>\n",
       "      <td>tax_liens</td>\n",
       "      <td>-0.009690</td>\n",
       "      <td>0.009690</td>\n",
       "      <td>126.575274</td>\n",
       "      <td>2.308016e-29</td>\n",
       "    </tr>\n",
       "    <tr>\n",
       "      <th>56</th>\n",
       "      <td>out_prncp</td>\n",
       "      <td>-0.008320</td>\n",
       "      <td>0.008320</td>\n",
       "      <td>93.332597</td>\n",
       "      <td>4.427813e-22</td>\n",
       "    </tr>\n",
       "    <tr>\n",
       "      <th>57</th>\n",
       "      <td>out_prncp_inv</td>\n",
       "      <td>-0.008320</td>\n",
       "      <td>0.008320</td>\n",
       "      <td>93.332597</td>\n",
       "      <td>4.427813e-22</td>\n",
       "    </tr>\n",
       "    <tr>\n",
       "      <th>58</th>\n",
       "      <td>num_il_tl</td>\n",
       "      <td>-0.006382</td>\n",
       "      <td>0.006382</td>\n",
       "      <td>52.053111</td>\n",
       "      <td>5.404930e-13</td>\n",
       "    </tr>\n",
       "    <tr>\n",
       "      <th>59</th>\n",
       "      <td>num_rev_accts</td>\n",
       "      <td>0.005025</td>\n",
       "      <td>0.005025</td>\n",
       "      <td>32.261605</td>\n",
       "      <td>1.347790e-08</td>\n",
       "    </tr>\n",
       "    <tr>\n",
       "      <th>60</th>\n",
       "      <td>acc_now_delinq</td>\n",
       "      <td>-0.003895</td>\n",
       "      <td>0.003895</td>\n",
       "      <td>20.456216</td>\n",
       "      <td>6.101627e-06</td>\n",
       "    </tr>\n",
       "    <tr>\n",
       "      <th>61</th>\n",
       "      <td>total_bal_ex_mort</td>\n",
       "      <td>0.003766</td>\n",
       "      <td>0.003766</td>\n",
       "      <td>18.415149</td>\n",
       "      <td>1.776529e-05</td>\n",
       "    </tr>\n",
       "    <tr>\n",
       "      <th>62</th>\n",
       "      <td>chargeoff_within_12_mths</td>\n",
       "      <td>-0.003147</td>\n",
       "      <td>0.003147</td>\n",
       "      <td>13.351976</td>\n",
       "      <td>2.581602e-04</td>\n",
       "    </tr>\n",
       "    <tr>\n",
       "      <th>63</th>\n",
       "      <td>delinq_amnt</td>\n",
       "      <td>-0.002785</td>\n",
       "      <td>0.002785</td>\n",
       "      <td>10.455111</td>\n",
       "      <td>1.223135e-03</td>\n",
       "    </tr>\n",
       "    <tr>\n",
       "      <th>64</th>\n",
       "      <td>num_tl_30dpd</td>\n",
       "      <td>-0.002598</td>\n",
       "      <td>0.002598</td>\n",
       "      <td>8.623815</td>\n",
       "      <td>3.318022e-03</td>\n",
       "    </tr>\n",
       "    <tr>\n",
       "      <th>65</th>\n",
       "      <td>num_tl_120dpd_2m</td>\n",
       "      <td>-0.001294</td>\n",
       "      <td>0.001294</td>\n",
       "      <td>2.054564</td>\n",
       "      <td>1.517509e-01</td>\n",
       "    </tr>\n",
       "    <tr>\n",
       "      <th>66</th>\n",
       "      <td>total_il_high_credit_limit</td>\n",
       "      <td>0.001269</td>\n",
       "      <td>0.001269</td>\n",
       "      <td>2.058641</td>\n",
       "      <td>1.513453e-01</td>\n",
       "    </tr>\n",
       "    <tr>\n",
       "      <th>67</th>\n",
       "      <td>tot_coll_amt</td>\n",
       "      <td>0.000447</td>\n",
       "      <td>0.000447</td>\n",
       "      <td>0.254878</td>\n",
       "      <td>6.136614e-01</td>\n",
       "    </tr>\n",
       "    <tr>\n",
       "      <th>68</th>\n",
       "      <td>policy_code</td>\n",
       "      <td>NaN</td>\n",
       "      <td>NaN</td>\n",
       "      <td>NaN</td>\n",
       "      <td>NaN</td>\n",
       "    </tr>\n",
       "  </tbody>\n",
       "</table>\n",
       "</div>"
      ],
      "text/plain": [
       "                      variable  pearson_corr  abs_pearson_corr           F  \\\n",
       "49  collections_12_mths_ex_med     -0.015981          0.015981  344.328976   \n",
       "50                 num_bc_sats     -0.014222          0.014222  260.873414   \n",
       "51                   total_acc      0.011412          0.011412  175.576674   \n",
       "52              pct_tl_nvr_dlq      0.010556          0.010556  142.391061   \n",
       "53       num_accts_ever_120_pd     -0.010370          0.010370  137.430809   \n",
       "54          num_tl_90g_dpd_24m     -0.009887          0.009887  124.931317   \n",
       "55                   tax_liens     -0.009690          0.009690  126.575274   \n",
       "56                   out_prncp     -0.008320          0.008320   93.332597   \n",
       "57               out_prncp_inv     -0.008320          0.008320   93.332597   \n",
       "58                   num_il_tl     -0.006382          0.006382   52.053111   \n",
       "59               num_rev_accts      0.005025          0.005025   32.261605   \n",
       "60              acc_now_delinq     -0.003895          0.003895   20.456216   \n",
       "61           total_bal_ex_mort      0.003766          0.003766   18.415149   \n",
       "62    chargeoff_within_12_mths     -0.003147          0.003147   13.351976   \n",
       "63                 delinq_amnt     -0.002785          0.002785   10.455111   \n",
       "64                num_tl_30dpd     -0.002598          0.002598    8.623815   \n",
       "65            num_tl_120dpd_2m     -0.001294          0.001294    2.054564   \n",
       "66  total_il_high_credit_limit      0.001269          0.001269    2.058641   \n",
       "67                tot_coll_amt      0.000447          0.000447    0.254878   \n",
       "68                 policy_code           NaN               NaN         NaN   \n",
       "\n",
       "         p_value  \n",
       "49  7.442476e-77  \n",
       "50  1.121779e-58  \n",
       "51  4.505966e-40  \n",
       "52  8.019022e-33  \n",
       "53  9.743172e-32  \n",
       "54  5.285080e-29  \n",
       "55  2.308016e-29  \n",
       "56  4.427813e-22  \n",
       "57  4.427813e-22  \n",
       "58  5.404930e-13  \n",
       "59  1.347790e-08  \n",
       "60  6.101627e-06  \n",
       "61  1.776529e-05  \n",
       "62  2.581602e-04  \n",
       "63  1.223135e-03  \n",
       "64  3.318022e-03  \n",
       "65  1.517509e-01  \n",
       "66  1.513453e-01  \n",
       "67  6.136614e-01  \n",
       "68           NaN  "
      ]
     },
     "execution_count": 36,
     "metadata": {},
     "output_type": "execute_result"
    }
   ],
   "source": [
    "linear_dep.tail(20)"
   ]
  },
  {
   "cell_type": "markdown",
   "id": "42bf0c3d",
   "metadata": {},
   "source": [
    "## 4.1 id"
   ]
  },
  {
   "cell_type": "code",
   "execution_count": 37,
   "id": "e347e783",
   "metadata": {},
   "outputs": [
    {
     "data": {
      "text/plain": [
       "count     1348099\n",
       "unique    1348099\n",
       "top       6291456\n",
       "freq            1\n",
       "Name: id, dtype: int64"
      ]
     },
     "execution_count": 37,
     "metadata": {},
     "output_type": "execute_result"
    }
   ],
   "source": [
    "loans['id'].describe()"
   ]
  },
  {
   "cell_type": "markdown",
   "id": "a0c050e3",
   "metadata": {},
   "source": [
    "Each id is unique for a loan"
   ]
  },
  {
   "cell_type": "markdown",
   "id": "7f6edc25",
   "metadata": {},
   "source": [
    "## 4.2 loan_amnt"
   ]
  },
  {
   "cell_type": "code",
   "execution_count": 38,
   "id": "8ddfe794",
   "metadata": {},
   "outputs": [
    {
     "data": {
      "text/plain": [
       "count    1.348099e+06\n",
       "mean     1.440900e+04\n",
       "std      8.716138e+03\n",
       "min      5.000000e+02\n",
       "25%      7.975000e+03\n",
       "50%      1.200000e+04\n",
       "75%      2.000000e+04\n",
       "max      4.000000e+04\n",
       "Name: loan_amnt, dtype: float64"
      ]
     },
     "execution_count": 38,
     "metadata": {},
     "output_type": "execute_result"
    }
   ],
   "source": [
    "loans['loan_amnt'].describe()"
   ]
  },
  {
   "cell_type": "markdown",
   "id": "d1a59b4e",
   "metadata": {},
   "source": [
    "Loan amounts range from 500 dollars to 40,000 dolalrs, with a median of $12,000."
   ]
  },
  {
   "cell_type": "code",
   "execution_count": 39,
   "id": "7cec7ba9",
   "metadata": {},
   "outputs": [
    {
     "data": {
      "image/png": "[encoded data removed]",
      "text/plain": [
       "<Figure size 1080x270 with 2 Axes>"
      ]
     },
     "metadata": {},
     "output_type": "display_data"
    }
   ],
   "source": [
    "eda.plot_var('loan_amnt', 'Loan Amount', continuous=True)"
   ]
  },
  {
   "cell_type": "markdown",
   "id": "7ee142dc",
   "metadata": {},
   "source": [
    "### Bad laons have higher average Loan Amount. Comparing other statistics below."
   ]
  },
  {
   "cell_type": "code",
   "execution_count": 40,
   "id": "9ac7226e",
   "metadata": {},
   "outputs": [
    {
     "data": {
      "text/html": [
       "<div>\n",
       "<style scoped>\n",
       "    .dataframe tbody tr th:only-of-type {\n",
       "        vertical-align: middle;\n",
       "    }\n",
       "\n",
       "    .dataframe tbody tr th {\n",
       "        vertical-align: top;\n",
       "    }\n",
       "\n",
       "    .dataframe thead th {\n",
       "        text-align: right;\n",
       "    }\n",
       "</style>\n",
       "<table border=\"1\" class=\"dataframe\">\n",
       "  <thead>\n",
       "    <tr style=\"text-align: right;\">\n",
       "      <th></th>\n",
       "      <th>count</th>\n",
       "      <th>mean</th>\n",
       "      <th>std</th>\n",
       "      <th>min</th>\n",
       "      <th>25%</th>\n",
       "      <th>50%</th>\n",
       "      <th>75%</th>\n",
       "      <th>max</th>\n",
       "    </tr>\n",
       "    <tr>\n",
       "      <th>loan_category</th>\n",
       "      <th></th>\n",
       "      <th></th>\n",
       "      <th></th>\n",
       "      <th></th>\n",
       "      <th></th>\n",
       "      <th></th>\n",
       "      <th></th>\n",
       "      <th></th>\n",
       "    </tr>\n",
       "  </thead>\n",
       "  <tbody>\n",
       "    <tr>\n",
       "      <th>bad</th>\n",
       "      <td>269360.0</td>\n",
       "      <td>15547.816955</td>\n",
       "      <td>8814.732243</td>\n",
       "      <td>500.0</td>\n",
       "      <td>9000.0</td>\n",
       "      <td>14300.0</td>\n",
       "      <td>20400.0</td>\n",
       "      <td>40000.0</td>\n",
       "    </tr>\n",
       "    <tr>\n",
       "      <th>good</th>\n",
       "      <td>1078739.0</td>\n",
       "      <td>14124.637238</td>\n",
       "      <td>8668.035712</td>\n",
       "      <td>500.0</td>\n",
       "      <td>7500.0</td>\n",
       "      <td>12000.0</td>\n",
       "      <td>20000.0</td>\n",
       "      <td>40000.0</td>\n",
       "    </tr>\n",
       "  </tbody>\n",
       "</table>\n",
       "</div>"
      ],
      "text/plain": [
       "                   count          mean          std    min     25%      50%  \\\n",
       "loan_category                                                                 \n",
       "bad             269360.0  15547.816955  8814.732243  500.0  9000.0  14300.0   \n",
       "good           1078739.0  14124.637238  8668.035712  500.0  7500.0  12000.0   \n",
       "\n",
       "                   75%      max  \n",
       "loan_category                    \n",
       "bad            20400.0  40000.0  \n",
       "good           20000.0  40000.0  "
      ]
     },
     "execution_count": 40,
     "metadata": {},
     "output_type": "execute_result"
    }
   ],
   "source": [
    "loans.groupby('loan_category')['loan_amnt'].describe()"
   ]
  },
  {
   "cell_type": "markdown",
   "id": "ff23a31f",
   "metadata": {},
   "source": [
    "## 4.3 funded_amnt"
   ]
  },
  {
   "cell_type": "code",
   "execution_count": 41,
   "id": "244eb362",
   "metadata": {},
   "outputs": [
    {
     "data": {
      "text/plain": [
       "count    1.348099e+06\n",
       "mean     1.440019e+04\n",
       "std      8.712250e+03\n",
       "min      5.000000e+02\n",
       "25%      7.950000e+03\n",
       "50%      1.200000e+04\n",
       "75%      2.000000e+04\n",
       "max      4.000000e+04\n",
       "Name: funded_amnt, dtype: float64"
      ]
     },
     "execution_count": 41,
     "metadata": {},
     "output_type": "execute_result"
    }
   ],
   "source": [
    "loans['funded_amnt'].describe()"
   ]
  },
  {
   "cell_type": "code",
   "execution_count": 42,
   "id": "8a3aec12",
   "metadata": {},
   "outputs": [
    {
     "data": {
      "image/png": "[encoded data removed]",
      "text/plain": [
       "<Figure size 1080x270 with 2 Axes>"
      ]
     },
     "metadata": {},
     "output_type": "display_data"
    }
   ],
   "source": [
    "eda.plot_var('funded_amnt', 'Funded Amount', continuous=True)"
   ]
  },
  {
   "cell_type": "code",
   "execution_count": 43,
   "id": "25d8ee44",
   "metadata": {},
   "outputs": [
    {
     "data": {
      "text/html": [
       "<div>\n",
       "<style scoped>\n",
       "    .dataframe tbody tr th:only-of-type {\n",
       "        vertical-align: middle;\n",
       "    }\n",
       "\n",
       "    .dataframe tbody tr th {\n",
       "        vertical-align: top;\n",
       "    }\n",
       "\n",
       "    .dataframe thead th {\n",
       "        text-align: right;\n",
       "    }\n",
       "</style>\n",
       "<table border=\"1\" class=\"dataframe\">\n",
       "  <thead>\n",
       "    <tr style=\"text-align: right;\">\n",
       "      <th></th>\n",
       "      <th>count</th>\n",
       "      <th>mean</th>\n",
       "      <th>std</th>\n",
       "      <th>min</th>\n",
       "      <th>25%</th>\n",
       "      <th>50%</th>\n",
       "      <th>75%</th>\n",
       "      <th>max</th>\n",
       "    </tr>\n",
       "    <tr>\n",
       "      <th>loan_category</th>\n",
       "      <th></th>\n",
       "      <th></th>\n",
       "      <th></th>\n",
       "      <th></th>\n",
       "      <th></th>\n",
       "      <th></th>\n",
       "      <th></th>\n",
       "      <th></th>\n",
       "    </tr>\n",
       "  </thead>\n",
       "  <tbody>\n",
       "    <tr>\n",
       "      <th>bad</th>\n",
       "      <td>269360.0</td>\n",
       "      <td>15539.056560</td>\n",
       "      <td>8811.315479</td>\n",
       "      <td>500.0</td>\n",
       "      <td>9000.0</td>\n",
       "      <td>14250.0</td>\n",
       "      <td>20400.0</td>\n",
       "      <td>40000.0</td>\n",
       "    </tr>\n",
       "    <tr>\n",
       "      <th>good</th>\n",
       "      <td>1078739.0</td>\n",
       "      <td>14115.812467</td>\n",
       "      <td>8664.015228</td>\n",
       "      <td>500.0</td>\n",
       "      <td>7500.0</td>\n",
       "      <td>12000.0</td>\n",
       "      <td>20000.0</td>\n",
       "      <td>40000.0</td>\n",
       "    </tr>\n",
       "  </tbody>\n",
       "</table>\n",
       "</div>"
      ],
      "text/plain": [
       "                   count          mean          std    min     25%      50%  \\\n",
       "loan_category                                                                 \n",
       "bad             269360.0  15539.056560  8811.315479  500.0  9000.0  14250.0   \n",
       "good           1078739.0  14115.812467  8664.015228  500.0  7500.0  12000.0   \n",
       "\n",
       "                   75%      max  \n",
       "loan_category                    \n",
       "bad            20400.0  40000.0  \n",
       "good           20000.0  40000.0  "
      ]
     },
     "execution_count": 43,
     "metadata": {},
     "output_type": "execute_result"
    }
   ],
   "source": [
    "loans.groupby('loan_category')['funded_amnt'].describe()"
   ]
  },
  {
   "cell_type": "markdown",
   "id": "fa2147d3",
   "metadata": {},
   "source": [
    "### Funded amount has a very similar characteristics as that of a loan amount. There correlation is also greater than 99.9%. "
   ]
  },
  {
   "cell_type": "code",
   "execution_count": 44,
   "id": "6894e8c0",
   "metadata": {},
   "outputs": [
    {
     "data": {
      "text/plain": [
       "array([[1.        , 0.99954519],\n",
       "       [0.99954519, 1.        ]])"
      ]
     },
     "execution_count": 44,
     "metadata": {},
     "output_type": "execute_result"
    }
   ],
   "source": [
    "np.corrcoef(loans['loan_amnt'], loans['funded_amnt'])"
   ]
  },
  {
   "cell_type": "markdown",
   "id": "23621b90",
   "metadata": {},
   "source": [
    "## 4.4 term"
   ]
  },
  {
   "cell_type": "code",
   "execution_count": 45,
   "id": "504d8e87",
   "metadata": {},
   "outputs": [
    {
     "data": {
      "text/plain": [
       " 36 months    1023206\n",
       " 60 months     324893\n",
       "Name: term, dtype: int64"
      ]
     },
     "execution_count": 45,
     "metadata": {},
     "output_type": "execute_result"
    }
   ],
   "source": [
    "loans['term'].value_counts(dropna=False)"
   ]
  },
  {
   "cell_type": "code",
   "execution_count": 46,
   "id": "dd3415dc",
   "metadata": {},
   "outputs": [
    {
     "data": {
      "text/plain": [
       " 36 months    0.758999\n",
       " 60 months    0.241001\n",
       "Name: term, dtype: float64"
      ]
     },
     "execution_count": 46,
     "metadata": {},
     "output_type": "execute_result"
    }
   ],
   "source": [
    "loans['term'].value_counts(normalize=True)"
   ]
  },
  {
   "cell_type": "markdown",
   "id": "9ff1614a",
   "metadata": {},
   "source": [
    "Compare the bad loans rate by the term of the loan"
   ]
  },
  {
   "cell_type": "code",
   "execution_count": 47,
   "id": "b2cc1d2d",
   "metadata": {},
   "outputs": [
    {
     "data": {
      "text/plain": [
       "term\n",
       " 36 months    0.160208\n",
       " 60 months    0.324519\n",
       "Name: loan_category, dtype: float64"
      ]
     },
     "execution_count": 47,
     "metadata": {},
     "output_type": "execute_result"
    }
   ],
   "source": [
    "loans.groupby('term')['loan_category'].value_counts(normalize=True).loc[:,'bad']"
   ]
  },
  {
   "cell_type": "markdown",
   "id": "11f4f576",
   "metadata": {},
   "source": [
    "### About 76% of the loans have three-year periods, and the rest have five-year periods. Loans with five-year periods are more than twice as likely to be a bad loan as comapred with three-year periods."
   ]
  },
  {
   "cell_type": "markdown",
   "id": "63284c75",
   "metadata": {},
   "source": [
    "## 4.5 int_rate"
   ]
  },
  {
   "cell_type": "code",
   "execution_count": 48,
   "id": "845f760f",
   "metadata": {},
   "outputs": [
    {
     "data": {
      "text/plain": [
       "count    1.348099e+06\n",
       "mean     1.324156e+01\n",
       "std      4.765685e+00\n",
       "min      5.310000e+00\n",
       "25%      9.750000e+00\n",
       "50%      1.274000e+01\n",
       "75%      1.599000e+01\n",
       "max      3.099000e+01\n",
       "Name: int_rate, dtype: float64"
      ]
     },
     "execution_count": 48,
     "metadata": {},
     "output_type": "execute_result"
    }
   ],
   "source": [
    "loans['int_rate'].describe()"
   ]
  },
  {
   "cell_type": "markdown",
   "id": "7efff15e",
   "metadata": {},
   "source": [
    "Interest rates range from 5.31% to 30.99% with a median of 12.74%."
   ]
  },
  {
   "cell_type": "code",
   "execution_count": 49,
   "id": "26b4b486",
   "metadata": {},
   "outputs": [
    {
     "data": {
      "image/png": "[encoded data removed]",
      "text/plain": [
       "<Figure size 1080x270 with 2 Axes>"
      ]
     },
     "metadata": {},
     "output_type": "display_data"
    }
   ],
   "source": [
    "eda.plot_var('int_rate', 'Interest Rate', continuous=True)"
   ]
  },
  {
   "cell_type": "code",
   "execution_count": 50,
   "id": "37c06c53",
   "metadata": {},
   "outputs": [
    {
     "data": {
      "image/png": "[encoded data removed]",
      "text/plain": [
       "<Figure size 432x288 with 1 Axes>"
      ]
     },
     "metadata": {},
     "output_type": "display_data"
    }
   ],
   "source": [
    "eda.plot_density_plot('int_rate')"
   ]
  },
  {
   "cell_type": "markdown",
   "id": "137cf764",
   "metadata": {},
   "source": [
    "### Bad loans tend to have much higher interest rates. Let's compare the summary statistics by loan category:"
   ]
  },
  {
   "cell_type": "code",
   "execution_count": 51,
   "id": "289a23ea",
   "metadata": {},
   "outputs": [
    {
     "data": {
      "text/html": [
       "<div>\n",
       "<style scoped>\n",
       "    .dataframe tbody tr th:only-of-type {\n",
       "        vertical-align: middle;\n",
       "    }\n",
       "\n",
       "    .dataframe tbody tr th {\n",
       "        vertical-align: top;\n",
       "    }\n",
       "\n",
       "    .dataframe thead th {\n",
       "        text-align: right;\n",
       "    }\n",
       "</style>\n",
       "<table border=\"1\" class=\"dataframe\">\n",
       "  <thead>\n",
       "    <tr style=\"text-align: right;\">\n",
       "      <th></th>\n",
       "      <th>count</th>\n",
       "      <th>mean</th>\n",
       "      <th>std</th>\n",
       "      <th>min</th>\n",
       "      <th>25%</th>\n",
       "      <th>50%</th>\n",
       "      <th>75%</th>\n",
       "      <th>max</th>\n",
       "    </tr>\n",
       "    <tr>\n",
       "      <th>loan_category</th>\n",
       "      <th></th>\n",
       "      <th></th>\n",
       "      <th></th>\n",
       "      <th></th>\n",
       "      <th></th>\n",
       "      <th></th>\n",
       "      <th></th>\n",
       "      <th></th>\n",
       "    </tr>\n",
       "  </thead>\n",
       "  <tbody>\n",
       "    <tr>\n",
       "      <th>bad</th>\n",
       "      <td>269360.0</td>\n",
       "      <td>15.707638</td>\n",
       "      <td>4.906016</td>\n",
       "      <td>5.31</td>\n",
       "      <td>12.29</td>\n",
       "      <td>15.05</td>\n",
       "      <td>18.55</td>\n",
       "      <td>30.99</td>\n",
       "    </tr>\n",
       "    <tr>\n",
       "      <th>good</th>\n",
       "      <td>1078739.0</td>\n",
       "      <td>12.625786</td>\n",
       "      <td>4.524947</td>\n",
       "      <td>5.31</td>\n",
       "      <td>9.17</td>\n",
       "      <td>12.29</td>\n",
       "      <td>15.31</td>\n",
       "      <td>30.99</td>\n",
       "    </tr>\n",
       "  </tbody>\n",
       "</table>\n",
       "</div>"
      ],
      "text/plain": [
       "                   count       mean       std   min    25%    50%    75%  \\\n",
       "loan_category                                                              \n",
       "bad             269360.0  15.707638  4.906016  5.31  12.29  15.05  18.55   \n",
       "good           1078739.0  12.625786  4.524947  5.31   9.17  12.29  15.31   \n",
       "\n",
       "                 max  \n",
       "loan_category         \n",
       "bad            30.99  \n",
       "good           30.99  "
      ]
     },
     "execution_count": 51,
     "metadata": {},
     "output_type": "execute_result"
    }
   ],
   "source": [
    "loans.groupby('loan_category')['int_rate'].describe()"
   ]
  },
  {
   "cell_type": "markdown",
   "id": "3bfd88fc",
   "metadata": {},
   "source": [
    "## 4.6 installment"
   ]
  },
  {
   "cell_type": "code",
   "execution_count": 52,
   "id": "0c63def0",
   "metadata": {},
   "outputs": [
    {
     "data": {
      "text/plain": [
       "count    1.348099e+06\n",
       "mean     4.377778e+02\n",
       "std      2.614972e+02\n",
       "min      4.930000e+00\n",
       "25%      2.482800e+02\n",
       "50%      3.750400e+02\n",
       "75%      5.802200e+02\n",
       "max      1.719830e+03\n",
       "Name: installment, dtype: float64"
      ]
     },
     "execution_count": 52,
     "metadata": {},
     "output_type": "execute_result"
    }
   ],
   "source": [
    "loans['installment'].describe()"
   ]
  },
  {
   "cell_type": "markdown",
   "id": "dffd26d7",
   "metadata": {},
   "source": [
    "### Installments range from $4.93 to $1,719, with a median of $375"
   ]
  },
  {
   "cell_type": "code",
   "execution_count": 53,
   "id": "559b9ad6",
   "metadata": {},
   "outputs": [
    {
     "data": {
      "image/png": "[encoded data removed]",
      "text/plain": [
       "<Figure size 1080x270 with 2 Axes>"
      ]
     },
     "metadata": {},
     "output_type": "display_data"
    }
   ],
   "source": [
    "eda.plot_var('installment', 'Installment', continuous=True)"
   ]
  },
  {
   "cell_type": "code",
   "execution_count": 54,
   "id": "49d82049",
   "metadata": {},
   "outputs": [
    {
     "data": {
      "image/png": "[encoded data removed]",
      "text/plain": [
       "<Figure size 432x288 with 1 Axes>"
      ]
     },
     "metadata": {},
     "output_type": "display_data"
    }
   ],
   "source": [
    "eda.plot_density_plot('installment')"
   ]
  },
  {
   "cell_type": "markdown",
   "id": "fd98f9af",
   "metadata": {},
   "source": [
    "### Bad loans tend to have higher installments. Let's compare the summary statistics by loan category:"
   ]
  },
  {
   "cell_type": "code",
   "execution_count": 55,
   "id": "8efcdd1a",
   "metadata": {},
   "outputs": [
    {
     "data": {
      "text/html": [
       "<div>\n",
       "<style scoped>\n",
       "    .dataframe tbody tr th:only-of-type {\n",
       "        vertical-align: middle;\n",
       "    }\n",
       "\n",
       "    .dataframe tbody tr th {\n",
       "        vertical-align: top;\n",
       "    }\n",
       "\n",
       "    .dataframe thead th {\n",
       "        text-align: right;\n",
       "    }\n",
       "</style>\n",
       "<table border=\"1\" class=\"dataframe\">\n",
       "  <thead>\n",
       "    <tr style=\"text-align: right;\">\n",
       "      <th></th>\n",
       "      <th>count</th>\n",
       "      <th>mean</th>\n",
       "      <th>std</th>\n",
       "      <th>min</th>\n",
       "      <th>25%</th>\n",
       "      <th>50%</th>\n",
       "      <th>75%</th>\n",
       "      <th>max</th>\n",
       "    </tr>\n",
       "    <tr>\n",
       "      <th>loan_category</th>\n",
       "      <th></th>\n",
       "      <th></th>\n",
       "      <th></th>\n",
       "      <th></th>\n",
       "      <th></th>\n",
       "      <th></th>\n",
       "      <th></th>\n",
       "      <th></th>\n",
       "    </tr>\n",
       "  </thead>\n",
       "  <tbody>\n",
       "    <tr>\n",
       "      <th>bad</th>\n",
       "      <td>269360.0</td>\n",
       "      <td>464.692098</td>\n",
       "      <td>262.793280</td>\n",
       "      <td>15.91</td>\n",
       "      <td>275.07</td>\n",
       "      <td>402.54</td>\n",
       "      <td>604.6575</td>\n",
       "      <td>1717.63</td>\n",
       "    </tr>\n",
       "    <tr>\n",
       "      <th>good</th>\n",
       "      <td>1078739.0</td>\n",
       "      <td>431.057382</td>\n",
       "      <td>260.739575</td>\n",
       "      <td>4.93</td>\n",
       "      <td>240.92</td>\n",
       "      <td>367.80</td>\n",
       "      <td>572.8500</td>\n",
       "      <td>1719.83</td>\n",
       "    </tr>\n",
       "  </tbody>\n",
       "</table>\n",
       "</div>"
      ],
      "text/plain": [
       "                   count        mean         std    min     25%     50%  \\\n",
       "loan_category                                                             \n",
       "bad             269360.0  464.692098  262.793280  15.91  275.07  402.54   \n",
       "good           1078739.0  431.057382  260.739575   4.93  240.92  367.80   \n",
       "\n",
       "                    75%      max  \n",
       "loan_category                     \n",
       "bad            604.6575  1717.63  \n",
       "good           572.8500  1719.83  "
      ]
     },
     "execution_count": 55,
     "metadata": {},
     "output_type": "execute_result"
    }
   ],
   "source": [
    "loans.groupby('loan_category')['installment'].describe()"
   ]
  },
  {
   "cell_type": "markdown",
   "id": "d0d955b1",
   "metadata": {},
   "source": [
    "### Bad Loans have $33 higher installments on average than good loans."
   ]
  },
  {
   "cell_type": "markdown",
   "id": "5799cfed",
   "metadata": {},
   "source": [
    "## 4.7 grade/sub-grade"
   ]
  },
  {
   "cell_type": "code",
   "execution_count": 56,
   "id": "1c9ba412",
   "metadata": {},
   "outputs": [
    {
     "name": "stdout",
     "output_type": "stream",
     "text": [
      "['A', 'B', 'C', 'D', 'E', 'F', 'G']\n"
     ]
    }
   ],
   "source": [
    "print(sorted(loans['grade'].unique()))"
   ]
  },
  {
   "cell_type": "code",
   "execution_count": 57,
   "id": "deea2e8d",
   "metadata": {},
   "outputs": [
    {
     "name": "stdout",
     "output_type": "stream",
     "text": [
      "['A1', 'A2', 'A3', 'A4', 'A5', 'B1', 'B2', 'B3', 'B4', 'B5', 'C1', 'C2', 'C3', 'C4', 'C5', 'D1', 'D2', 'D3', 'D4', 'D5', 'E1', 'E2', 'E3', 'E4', 'E5', 'F1', 'F2', 'F3', 'F4', 'F5', 'G1', 'G2', 'G3', 'G4', 'G5']\n"
     ]
    }
   ],
   "source": [
    "print(sorted(loans['sub_grade'].unique()))"
   ]
  },
  {
   "cell_type": "markdown",
   "id": "2ba86cb7",
   "metadata": {},
   "source": [
    "The grade is implied by the subgrade, so let's drop the grade column."
   ]
  },
  {
   "cell_type": "code",
   "execution_count": 58,
   "id": "380ce36e",
   "metadata": {},
   "outputs": [
    {
     "data": {
      "image/png": "[encoded data removed]",
      "text/plain": [
       "<Figure size 1080x270 with 2 Axes>"
      ]
     },
     "metadata": {},
     "output_type": "display_data"
    }
   ],
   "source": [
    "eda.plot_var('grade', 'Grade', continuous=False)"
   ]
  },
  {
   "cell_type": "code",
   "execution_count": 59,
   "id": "445679cc",
   "metadata": {},
   "outputs": [
    {
     "data": {
      "image/png": "[encoded data removed]",
      "text/plain": [
       "<Figure size 1224x432 with 3 Axes>"
      ]
     },
     "metadata": {},
     "output_type": "display_data"
    }
   ],
   "source": [
    "eda.plot_countplot('grade')"
   ]
  },
  {
   "cell_type": "code",
   "execution_count": 60,
   "id": "71797c4f",
   "metadata": {},
   "outputs": [
    {
     "data": {
      "image/png": "[encoded data removed]",
      "text/plain": [
       "<Figure size 1080x270 with 2 Axes>"
      ]
     },
     "metadata": {},
     "output_type": "display_data"
    }
   ],
   "source": [
    "eda.plot_var('sub_grade', 'Subgrade', continuous=False)"
   ]
  },
  {
   "cell_type": "markdown",
   "id": "89fe1063",
   "metadata": {},
   "source": [
    "### There's a clear trend of higher probability of bad loans as the grade/subgrade worsens."
   ]
  },
  {
   "cell_type": "markdown",
   "id": "a4e25ecd",
   "metadata": {},
   "source": [
    "## 4.8 emp_title and emp_length"
   ]
  },
  {
   "cell_type": "code",
   "execution_count": 61,
   "id": "ad232829",
   "metadata": {},
   "outputs": [
    {
     "data": {
      "text/plain": [
       "count     1262149\n",
       "unique     379863\n",
       "top       Teacher\n",
       "freq        21268\n",
       "Name: emp_title, dtype: object"
      ]
     },
     "execution_count": 61,
     "metadata": {},
     "output_type": "execute_result"
    }
   ],
   "source": [
    "loans['emp_title'].describe()"
   ]
  },
  {
   "cell_type": "markdown",
   "id": "5e48377d",
   "metadata": {},
   "source": [
    "### There are too many distinct employee titles. Lets look at the employment length"
   ]
  },
  {
   "cell_type": "code",
   "execution_count": 62,
   "id": "a57395ee",
   "metadata": {},
   "outputs": [
    {
     "data": {
      "text/plain": [
       "1 year        88843\n",
       "10+ years    442679\n",
       "2 years      122100\n",
       "3 years      107868\n",
       "4 years       80763\n",
       "5 years       84326\n",
       "6 years       62879\n",
       "7 years       59724\n",
       "8 years       60811\n",
       "9 years       51019\n",
       "< 1 year     108537\n",
       "NaN           78550\n",
       "Name: emp_length, dtype: int64"
      ]
     },
     "execution_count": 62,
     "metadata": {},
     "output_type": "execute_result"
    }
   ],
   "source": [
    "loans['emp_length'].value_counts(dropna=False).sort_index()"
   ]
  },
  {
   "cell_type": "markdown",
   "id": "c632cc2b",
   "metadata": {},
   "source": [
    "### Converting 'emp_length' as an integer"
   ]
  },
  {
   "cell_type": "code",
   "execution_count": 63,
   "id": "b8738928",
   "metadata": {},
   "outputs": [],
   "source": [
    "loans['emp_length'].replace(to_replace='10+ years', value='10 years', inplace=True)\n",
    "loans['emp_length'].replace('< 1 year', '0 years', inplace=True)"
   ]
  },
  {
   "cell_type": "code",
   "execution_count": 64,
   "id": "f8f7dcba",
   "metadata": {},
   "outputs": [],
   "source": [
    "def emp_length_to_int(s):\n",
    "    if pd.isnull(s):\n",
    "        return s\n",
    "    else:\n",
    "        return np.int8(s.split()[0])"
   ]
  },
  {
   "cell_type": "code",
   "execution_count": 65,
   "id": "ad6aa1b9",
   "metadata": {},
   "outputs": [],
   "source": [
    "loans['emp_length'] = loans['emp_length'].apply(emp_length_to_int)"
   ]
  },
  {
   "cell_type": "code",
   "execution_count": 66,
   "id": "b7c00a59",
   "metadata": {},
   "outputs": [
    {
     "data": {
      "image/png": "[encoded data removed]",
      "text/plain": [
       "<Figure size 1080x270 with 2 Axes>"
      ]
     },
     "metadata": {},
     "output_type": "display_data"
    }
   ],
   "source": [
    "eda.plot_var('emp_length', 'Employment Length', continuous=False)"
   ]
  },
  {
   "cell_type": "markdown",
   "id": "487c304d",
   "metadata": {},
   "source": [
    "### The percentage of bad loans seems to be indifferent with varing employment length. There is a small drop od fraction of bad loans with employment length >=10 years. "
   ]
  },
  {
   "cell_type": "markdown",
   "id": "fa01ca90",
   "metadata": {},
   "source": [
    "## 4.9 home_ownership"
   ]
  },
  {
   "cell_type": "code",
   "execution_count": 67,
   "id": "e7e9985c",
   "metadata": {},
   "outputs": [
    {
     "data": {
      "text/plain": [
       "MORTGAGE    666852\n",
       "RENT        535699\n",
       "OWN         145027\n",
       "ANY            286\n",
       "OTHER          182\n",
       "NONE            53\n",
       "Name: home_ownership, dtype: int64"
      ]
     },
     "execution_count": 67,
     "metadata": {},
     "output_type": "execute_result"
    }
   ],
   "source": [
    "loans['home_ownership'].value_counts(dropna=False)"
   ]
  },
  {
   "cell_type": "code",
   "execution_count": 68,
   "id": "ec0f711c",
   "metadata": {},
   "outputs": [],
   "source": [
    "loans['home_ownership'].replace(['NONE', 'ANY'], 'OTHER', inplace=True)"
   ]
  },
  {
   "cell_type": "code",
   "execution_count": 69,
   "id": "8baa6c0f",
   "metadata": {},
   "outputs": [
    {
     "data": {
      "image/png": "[encoded data removed]",
      "text/plain": [
       "<Figure size 1080x270 with 2 Axes>"
      ]
     },
     "metadata": {},
     "output_type": "display_data"
    }
   ],
   "source": [
    "eda.plot_var('home_ownership', 'Home Ownership', continuous=False)"
   ]
  },
  {
   "cell_type": "code",
   "execution_count": 70,
   "id": "88c2cd87",
   "metadata": {},
   "outputs": [
    {
     "data": {
      "image/png": "[encoded data removed]",
      "text/plain": [
       "<Figure size 1224x432 with 3 Axes>"
      ]
     },
     "metadata": {},
     "output_type": "display_data"
    }
   ],
   "source": [
    "eda.plot_countplot('home_ownership')"
   ]
  },
  {
   "cell_type": "markdown",
   "id": "1ecd13c3",
   "metadata": {},
   "source": [
    "### There appear to be large differences in bad loans rates by home ownership status. Renters and homeowners have a higher probability of bad loans. Let's compare the bad-loans rates:"
   ]
  },
  {
   "cell_type": "code",
   "execution_count": 71,
   "id": "a2f611f3",
   "metadata": {},
   "outputs": [
    {
     "data": {
      "text/plain": [
       "home_ownership\n",
       "MORTGAGE    0.172296\n",
       "OTHER       0.195777\n",
       "OWN         0.206313\n",
       "RENT        0.232296\n",
       "Name: loan_category, dtype: float64"
      ]
     },
     "execution_count": 71,
     "metadata": {},
     "output_type": "execute_result"
    }
   ],
   "source": [
    "loans.groupby('home_ownership')['loan_category'].value_counts(normalize=True).loc[:,'bad']"
   ]
  },
  {
   "cell_type": "markdown",
   "id": "97efa18e",
   "metadata": {},
   "source": [
    "### Renters are 5% more likely to default on a loan than people with mortgage."
   ]
  },
  {
   "cell_type": "markdown",
   "id": "e7dce2b1",
   "metadata": {},
   "source": [
    "## 4.10 annual_inc"
   ]
  },
  {
   "cell_type": "code",
   "execution_count": 72,
   "id": "a2d57eb4",
   "metadata": {},
   "outputs": [
    {
     "data": {
      "text/plain": [
       "count    1.348095e+06\n",
       "mean     7.623774e+04\n",
       "std      6.992274e+04\n",
       "min      0.000000e+00\n",
       "25%      4.575000e+04\n",
       "50%      6.500000e+04\n",
       "75%      9.000000e+04\n",
       "max      1.099920e+07\n",
       "Name: annual_inc, dtype: float64"
      ]
     },
     "execution_count": 72,
     "metadata": {},
     "output_type": "execute_result"
    }
   ],
   "source": [
    "loans['annual_inc'].describe()"
   ]
  },
  {
   "cell_type": "markdown",
   "id": "870e6d33",
   "metadata": {},
   "source": [
    "### Annual income ranges from $0 to $10,999,200, with a median of $65,000. Because of the large range of incomes, a log transform of the annual income variable is taken."
   ]
  },
  {
   "cell_type": "code",
   "execution_count": 73,
   "id": "1fbc38c3",
   "metadata": {},
   "outputs": [],
   "source": [
    "loans['log_annual_inc'] = loans['annual_inc'].apply(lambda x: np.log10(x+1))"
   ]
  },
  {
   "cell_type": "code",
   "execution_count": 74,
   "id": "1b1390fa",
   "metadata": {},
   "outputs": [
    {
     "data": {
      "text/plain": [
       "count    1.348095e+06\n",
       "mean     4.812679e+00\n",
       "std      2.478492e-01\n",
       "min      0.000000e+00\n",
       "25%      4.660401e+00\n",
       "50%      4.812920e+00\n",
       "75%      4.954247e+00\n",
       "max      7.041361e+00\n",
       "Name: log_annual_inc, dtype: float64"
      ]
     },
     "execution_count": 74,
     "metadata": {},
     "output_type": "execute_result"
    }
   ],
   "source": [
    "loans['log_annual_inc'].describe()"
   ]
  },
  {
   "cell_type": "code",
   "execution_count": 75,
   "id": "91826927",
   "metadata": {},
   "outputs": [
    {
     "data": {
      "image/png": "[encoded data removed]",
      "text/plain": [
       "<Figure size 1080x270 with 2 Axes>"
      ]
     },
     "metadata": {},
     "output_type": "display_data"
    }
   ],
   "source": [
    "eda.plot_var('log_annual_inc', 'Log Annual Income', continuous=True)"
   ]
  },
  {
   "cell_type": "code",
   "execution_count": 76,
   "id": "a0f11f26",
   "metadata": {},
   "outputs": [
    {
     "data": {
      "image/png": "[encoded data removed]",
      "text/plain": [
       "<Figure size 432x288 with 1 Axes>"
      ]
     },
     "metadata": {},
     "output_type": "display_data"
    }
   ],
   "source": [
    "eda.plot_density_plot('log_annual_inc')"
   ]
  },
  {
   "cell_type": "markdown",
   "id": "e037497b",
   "metadata": {},
   "source": [
    "### It appears that individuals with higher income are more likely to pay off their loans. Let's compare the summary statistics by loan category:"
   ]
  },
  {
   "cell_type": "code",
   "execution_count": 77,
   "id": "bac01ccc",
   "metadata": {},
   "outputs": [
    {
     "data": {
      "text/html": [
       "<div>\n",
       "<style scoped>\n",
       "    .dataframe tbody tr th:only-of-type {\n",
       "        vertical-align: middle;\n",
       "    }\n",
       "\n",
       "    .dataframe tbody tr th {\n",
       "        vertical-align: top;\n",
       "    }\n",
       "\n",
       "    .dataframe thead th {\n",
       "        text-align: right;\n",
       "    }\n",
       "</style>\n",
       "<table border=\"1\" class=\"dataframe\">\n",
       "  <thead>\n",
       "    <tr style=\"text-align: right;\">\n",
       "      <th></th>\n",
       "      <th>count</th>\n",
       "      <th>mean</th>\n",
       "      <th>std</th>\n",
       "      <th>min</th>\n",
       "      <th>25%</th>\n",
       "      <th>50%</th>\n",
       "      <th>75%</th>\n",
       "      <th>max</th>\n",
       "    </tr>\n",
       "    <tr>\n",
       "      <th>loan_category</th>\n",
       "      <th></th>\n",
       "      <th></th>\n",
       "      <th></th>\n",
       "      <th></th>\n",
       "      <th></th>\n",
       "      <th></th>\n",
       "      <th></th>\n",
       "      <th></th>\n",
       "    </tr>\n",
       "  </thead>\n",
       "  <tbody>\n",
       "    <tr>\n",
       "      <th>bad</th>\n",
       "      <td>269360.0</td>\n",
       "      <td>4.781625</td>\n",
       "      <td>0.242174</td>\n",
       "      <td>0.0</td>\n",
       "      <td>4.633479</td>\n",
       "      <td>4.778158</td>\n",
       "      <td>4.929424</td>\n",
       "      <td>6.977724</td>\n",
       "    </tr>\n",
       "    <tr>\n",
       "      <th>good</th>\n",
       "      <td>1078735.0</td>\n",
       "      <td>4.820433</td>\n",
       "      <td>0.248642</td>\n",
       "      <td>0.0</td>\n",
       "      <td>4.672107</td>\n",
       "      <td>4.812920</td>\n",
       "      <td>4.968488</td>\n",
       "      <td>7.041361</td>\n",
       "    </tr>\n",
       "  </tbody>\n",
       "</table>\n",
       "</div>"
      ],
      "text/plain": [
       "                   count      mean       std  min       25%       50%  \\\n",
       "loan_category                                                           \n",
       "bad             269360.0  4.781625  0.242174  0.0  4.633479  4.778158   \n",
       "good           1078735.0  4.820433  0.248642  0.0  4.672107  4.812920   \n",
       "\n",
       "                    75%       max  \n",
       "loan_category                      \n",
       "bad            4.929424  6.977724  \n",
       "good           4.968488  7.041361  "
      ]
     },
     "execution_count": 77,
     "metadata": {},
     "output_type": "execute_result"
    }
   ],
   "source": [
    "loans.groupby('loan_category')['log_annual_inc'].describe()"
   ]
  },
  {
   "cell_type": "markdown",
   "id": "7c00f616",
   "metadata": {},
   "source": [
    "## 4.11 purpose"
   ]
  },
  {
   "cell_type": "code",
   "execution_count": 78,
   "id": "82cca6e9",
   "metadata": {},
   "outputs": [
    {
     "data": {
      "text/plain": [
       "debt_consolidation    781442\n",
       "credit_card           295625\n",
       "home_improvement       87721\n",
       "other                  78301\n",
       "major_purchase         29550\n",
       "medical                15614\n",
       "small_business         15577\n",
       "car                    14652\n",
       "moving                  9526\n",
       "vacation                9084\n",
       "house                   7298\n",
       "wedding                 2350\n",
       "renewable_energy         936\n",
       "educational              423\n",
       "Name: purpose, dtype: int64"
      ]
     },
     "execution_count": 78,
     "metadata": {},
     "output_type": "execute_result"
    }
   ],
   "source": [
    "loans['purpose'].value_counts()"
   ]
  },
  {
   "cell_type": "code",
   "execution_count": 79,
   "id": "33fd776d",
   "metadata": {},
   "outputs": [
    {
     "data": {
      "text/plain": [
       "purpose\n",
       "wedding               0.124255\n",
       "car                   0.147215\n",
       "credit_card           0.169326\n",
       "home_improvement      0.177563\n",
       "major_purchase        0.186058\n",
       "vacation              0.191986\n",
       "educational           0.208038\n",
       "other                 0.210827\n",
       "debt_consolidation    0.211567\n",
       "medical               0.218458\n",
       "house                 0.219101\n",
       "moving                0.233991\n",
       "renewable_energy      0.237179\n",
       "small_business        0.298645\n",
       "Name: loan_category, dtype: float64"
      ]
     },
     "execution_count": 79,
     "metadata": {},
     "output_type": "execute_result"
    }
   ],
   "source": [
    "loans.groupby('purpose')['loan_category'].value_counts(normalize=True).loc[:,'bad'].sort_values()"
   ]
  },
  {
   "cell_type": "markdown",
   "id": "4ee5c2d4",
   "metadata": {},
   "source": [
    "### Notice that only 12% of completed loans for weddings are bad loans, but 30% of completed small business loans are bad loans. The purpose of the loan is an important factor to decide the quality of a loan."
   ]
  },
  {
   "cell_type": "markdown",
   "id": "c95826c2",
   "metadata": {},
   "source": [
    "## 4.12 addr_state"
   ]
  },
  {
   "cell_type": "code",
   "execution_count": 80,
   "id": "909b53d5",
   "metadata": {},
   "outputs": [
    {
     "data": {
      "text/plain": [
       "addr_state\n",
       "DC    0.132281\n",
       "ME    0.138424\n",
       "VT    0.139736\n",
       "OR    0.144275\n",
       "NH    0.145708\n",
       "WV    0.155278\n",
       "CO    0.155367\n",
       "WA    0.157893\n",
       "SC    0.162898\n",
       "WY    0.167464\n",
       "KS    0.167569\n",
       "MT    0.169797\n",
       "UT    0.170761\n",
       "CT    0.173867\n",
       "RI    0.178881\n",
       "IL    0.181203\n",
       "WI    0.183719\n",
       "GA    0.184292\n",
       "ID    0.187943\n",
       "MA    0.190724\n",
       "CA    0.196299\n",
       "AK    0.196557\n",
       "AZ    0.196592\n",
       "DE    0.197372\n",
       "MN    0.197592\n",
       "TX    0.198425\n",
       "VA    0.199428\n",
       "HI    0.202217\n",
       "MI    0.203070\n",
       "ND    0.204744\n",
       "OH    0.205247\n",
       "NC    0.207952\n",
       "PA    0.208297\n",
       "KY    0.210085\n",
       "NJ    0.211185\n",
       "SD    0.213357\n",
       "MD    0.213368\n",
       "MO    0.213402\n",
       "NM    0.213637\n",
       "TN    0.214118\n",
       "IA    0.214286\n",
       "IN    0.214305\n",
       "FL    0.215018\n",
       "NV    0.219698\n",
       "NY    0.220506\n",
       "LA    0.231770\n",
       "OK    0.234672\n",
       "AL    0.236347\n",
       "AR    0.241105\n",
       "NE    0.252227\n",
       "MS    0.261107\n",
       "Name: loan_category, dtype: float64"
      ]
     },
     "execution_count": 80,
     "metadata": {},
     "output_type": "execute_result"
    }
   ],
   "source": [
    "loans.groupby('addr_state')['loan_category'].value_counts(normalize=True).loc[:,'bad'].sort_values()"
   ]
  },
  {
   "cell_type": "markdown",
   "id": "c0581be5",
   "metadata": {},
   "source": [
    "### There is a significat deviation between the bad loans percentages among different states. The bad loans rate ranges from 13.2% in Washington, DC to 26.1% in Mississippi."
   ]
  },
  {
   "cell_type": "markdown",
   "id": "05c80a12",
   "metadata": {},
   "source": [
    "## 4.13 dti"
   ]
  },
  {
   "cell_type": "markdown",
   "id": "6b809153",
   "metadata": {},
   "source": [
    "### \"A ratio calculated using the borrower’s total monthly debt payments on the total debt obligations, excluding mortgage and the requested LC loan, divided by the borrower’s self-reported monthly income.\""
   ]
  },
  {
   "cell_type": "code",
   "execution_count": 81,
   "id": "74f34e65",
   "metadata": {},
   "outputs": [
    {
     "data": {
      "text/plain": [
       "count    1.347725e+06\n",
       "mean     1.827425e+01\n",
       "std      1.115549e+01\n",
       "min     -1.000000e+00\n",
       "25%      1.179000e+01\n",
       "50%      1.761000e+01\n",
       "75%      2.405000e+01\n",
       "max      9.990000e+02\n",
       "Name: dti, dtype: float64"
      ]
     },
     "execution_count": 81,
     "metadata": {},
     "output_type": "execute_result"
    }
   ],
   "source": [
    "loans['dti'].describe()"
   ]
  },
  {
   "cell_type": "markdown",
   "id": "d67dc51f",
   "metadata": {},
   "source": [
    "### Note sure if the values of -1 and 999 make sense...\n",
    "\n",
    "There are several outliers that mess up our default plots. Plot a histogram for dti less than 60:\n",
    "\n"
   ]
  },
  {
   "cell_type": "code",
   "execution_count": 82,
   "id": "19bcd269",
   "metadata": {},
   "outputs": [
    {
     "data": {
      "text/plain": [
       "Text(0.5, 1.0, 'Debt-to-income Ratio')"
      ]
     },
     "execution_count": 82,
     "metadata": {},
     "output_type": "execute_result"
    },
    {
     "data": {
      "image/png": "[encoded data removed]",
      "text/plain": [
       "<Figure size 720x270 with 1 Axes>"
      ]
     },
     "metadata": {},
     "output_type": "display_data"
    }
   ],
   "source": [
    "plt.figure(figsize=(8,3), dpi=90)\n",
    "sns.distplot(loans.loc[loans['dti'].notnull() & (loans['dti']<60), 'dti'], kde=False)\n",
    "plt.xlabel('Debt-to-income Ratio')\n",
    "plt.ylabel('Count')\n",
    "plt.title('Debt-to-income Ratio')"
   ]
  },
  {
   "cell_type": "markdown",
   "id": "98e0bc37",
   "metadata": {},
   "source": [
    "### How many of the dti values are \"outliers\" (above 60)?"
   ]
  },
  {
   "cell_type": "code",
   "execution_count": 83,
   "id": "19b21308",
   "metadata": {},
   "outputs": [
    {
     "data": {
      "text/plain": [
       "1715"
      ]
     },
     "execution_count": 83,
     "metadata": {},
     "output_type": "execute_result"
    }
   ],
   "source": [
    "(loans['dti']>=60).sum()"
   ]
  },
  {
   "cell_type": "markdown",
   "id": "581c9bf7",
   "metadata": {},
   "source": [
    "### Very few. Compare the summary statistics by loan status:"
   ]
  },
  {
   "cell_type": "code",
   "execution_count": 84,
   "id": "c9af5168",
   "metadata": {},
   "outputs": [
    {
     "data": {
      "text/html": [
       "<div>\n",
       "<style scoped>\n",
       "    .dataframe tbody tr th:only-of-type {\n",
       "        vertical-align: middle;\n",
       "    }\n",
       "\n",
       "    .dataframe tbody tr th {\n",
       "        vertical-align: top;\n",
       "    }\n",
       "\n",
       "    .dataframe thead th {\n",
       "        text-align: right;\n",
       "    }\n",
       "</style>\n",
       "<table border=\"1\" class=\"dataframe\">\n",
       "  <thead>\n",
       "    <tr style=\"text-align: right;\">\n",
       "      <th></th>\n",
       "      <th>count</th>\n",
       "      <th>mean</th>\n",
       "      <th>std</th>\n",
       "      <th>min</th>\n",
       "      <th>25%</th>\n",
       "      <th>50%</th>\n",
       "      <th>75%</th>\n",
       "      <th>max</th>\n",
       "    </tr>\n",
       "    <tr>\n",
       "      <th>loan_category</th>\n",
       "      <th></th>\n",
       "      <th></th>\n",
       "      <th></th>\n",
       "      <th></th>\n",
       "      <th></th>\n",
       "      <th></th>\n",
       "      <th></th>\n",
       "      <th></th>\n",
       "    </tr>\n",
       "  </thead>\n",
       "  <tbody>\n",
       "    <tr>\n",
       "      <th>bad</th>\n",
       "      <td>269289.0</td>\n",
       "      <td>20.154296</td>\n",
       "      <td>11.825032</td>\n",
       "      <td>0.0</td>\n",
       "      <td>13.54</td>\n",
       "      <td>19.75</td>\n",
       "      <td>26.29</td>\n",
       "      <td>999.0</td>\n",
       "    </tr>\n",
       "    <tr>\n",
       "      <th>good</th>\n",
       "      <td>1078436.0</td>\n",
       "      <td>17.804800</td>\n",
       "      <td>10.931614</td>\n",
       "      <td>-1.0</td>\n",
       "      <td>11.42</td>\n",
       "      <td>17.10</td>\n",
       "      <td>23.44</td>\n",
       "      <td>999.0</td>\n",
       "    </tr>\n",
       "  </tbody>\n",
       "</table>\n",
       "</div>"
      ],
      "text/plain": [
       "                   count       mean        std  min    25%    50%    75%  \\\n",
       "loan_category                                                              \n",
       "bad             269289.0  20.154296  11.825032  0.0  13.54  19.75  26.29   \n",
       "good           1078436.0  17.804800  10.931614 -1.0  11.42  17.10  23.44   \n",
       "\n",
       "                 max  \n",
       "loan_category         \n",
       "bad            999.0  \n",
       "good           999.0  "
      ]
     },
     "execution_count": 84,
     "metadata": {},
     "output_type": "execute_result"
    }
   ],
   "source": [
    "loans.groupby('loan_category')['dti'].describe()"
   ]
  },
  {
   "cell_type": "markdown",
   "id": "1c7cfa09",
   "metadata": {},
   "source": [
    "### Completed loans that are bad tend to have higher debt-to-income ratios."
   ]
  },
  {
   "cell_type": "markdown",
   "id": "598ab3bb",
   "metadata": {},
   "source": [
    "## 4.14  fico_range_low, fico_range_high"
   ]
  },
  {
   "cell_type": "code",
   "execution_count": 85,
   "id": "2362cd1b",
   "metadata": {},
   "outputs": [
    {
     "data": {
      "text/html": [
       "<div>\n",
       "<style scoped>\n",
       "    .dataframe tbody tr th:only-of-type {\n",
       "        vertical-align: middle;\n",
       "    }\n",
       "\n",
       "    .dataframe tbody tr th {\n",
       "        vertical-align: top;\n",
       "    }\n",
       "\n",
       "    .dataframe thead th {\n",
       "        text-align: right;\n",
       "    }\n",
       "</style>\n",
       "<table border=\"1\" class=\"dataframe\">\n",
       "  <thead>\n",
       "    <tr style=\"text-align: right;\">\n",
       "      <th></th>\n",
       "      <th>fico_range_low</th>\n",
       "      <th>fico_range_high</th>\n",
       "    </tr>\n",
       "  </thead>\n",
       "  <tbody>\n",
       "    <tr>\n",
       "      <th>count</th>\n",
       "      <td>1.348099e+06</td>\n",
       "      <td>1.348099e+06</td>\n",
       "    </tr>\n",
       "    <tr>\n",
       "      <th>mean</th>\n",
       "      <td>6.961622e+02</td>\n",
       "      <td>7.001624e+02</td>\n",
       "    </tr>\n",
       "    <tr>\n",
       "      <th>std</th>\n",
       "      <td>3.185079e+01</td>\n",
       "      <td>3.185143e+01</td>\n",
       "    </tr>\n",
       "    <tr>\n",
       "      <th>min</th>\n",
       "      <td>6.100000e+02</td>\n",
       "      <td>6.140000e+02</td>\n",
       "    </tr>\n",
       "    <tr>\n",
       "      <th>25%</th>\n",
       "      <td>6.700000e+02</td>\n",
       "      <td>6.740000e+02</td>\n",
       "    </tr>\n",
       "    <tr>\n",
       "      <th>50%</th>\n",
       "      <td>6.900000e+02</td>\n",
       "      <td>6.940000e+02</td>\n",
       "    </tr>\n",
       "    <tr>\n",
       "      <th>75%</th>\n",
       "      <td>7.100000e+02</td>\n",
       "      <td>7.140000e+02</td>\n",
       "    </tr>\n",
       "    <tr>\n",
       "      <th>max</th>\n",
       "      <td>8.450000e+02</td>\n",
       "      <td>8.500000e+02</td>\n",
       "    </tr>\n",
       "  </tbody>\n",
       "</table>\n",
       "</div>"
      ],
      "text/plain": [
       "       fico_range_low  fico_range_high\n",
       "count    1.348099e+06     1.348099e+06\n",
       "mean     6.961622e+02     7.001624e+02\n",
       "std      3.185079e+01     3.185143e+01\n",
       "min      6.100000e+02     6.140000e+02\n",
       "25%      6.700000e+02     6.740000e+02\n",
       "50%      6.900000e+02     6.940000e+02\n",
       "75%      7.100000e+02     7.140000e+02\n",
       "max      8.450000e+02     8.500000e+02"
      ]
     },
     "execution_count": 85,
     "metadata": {},
     "output_type": "execute_result"
    }
   ],
   "source": [
    "loans[['fico_range_low', 'fico_range_high']].describe()"
   ]
  },
  {
   "cell_type": "markdown",
   "id": "917f01c6",
   "metadata": {},
   "source": [
    "### Check the Pearson correlation between these values:"
   ]
  },
  {
   "cell_type": "code",
   "execution_count": 86,
   "id": "bd1f3995",
   "metadata": {},
   "outputs": [
    {
     "data": {
      "text/html": [
       "<div>\n",
       "<style scoped>\n",
       "    .dataframe tbody tr th:only-of-type {\n",
       "        vertical-align: middle;\n",
       "    }\n",
       "\n",
       "    .dataframe tbody tr th {\n",
       "        vertical-align: top;\n",
       "    }\n",
       "\n",
       "    .dataframe thead th {\n",
       "        text-align: right;\n",
       "    }\n",
       "</style>\n",
       "<table border=\"1\" class=\"dataframe\">\n",
       "  <thead>\n",
       "    <tr style=\"text-align: right;\">\n",
       "      <th></th>\n",
       "      <th>fico_range_low</th>\n",
       "      <th>fico_range_high</th>\n",
       "    </tr>\n",
       "  </thead>\n",
       "  <tbody>\n",
       "    <tr>\n",
       "      <th>fico_range_low</th>\n",
       "      <td>1.0</td>\n",
       "      <td>1.0</td>\n",
       "    </tr>\n",
       "    <tr>\n",
       "      <th>fico_range_high</th>\n",
       "      <td>1.0</td>\n",
       "      <td>1.0</td>\n",
       "    </tr>\n",
       "  </tbody>\n",
       "</table>\n",
       "</div>"
      ],
      "text/plain": [
       "                 fico_range_low  fico_range_high\n",
       "fico_range_low              1.0              1.0\n",
       "fico_range_high             1.0              1.0"
      ]
     },
     "execution_count": 86,
     "metadata": {},
     "output_type": "execute_result"
    }
   ],
   "source": [
    "loans[['fico_range_low','fico_range_high']].corr()"
   ]
  },
  {
   "cell_type": "markdown",
   "id": "d2c4c57b",
   "metadata": {},
   "source": [
    "### Only need to keep one of the FICO scores. Take the average of the two and call it fico_score:"
   ]
  },
  {
   "cell_type": "code",
   "execution_count": 87,
   "id": "991988f4",
   "metadata": {},
   "outputs": [],
   "source": [
    "loans['fico_score'] = 0.5*loans['fico_range_low'] + 0.5*loans['fico_range_high']"
   ]
  },
  {
   "cell_type": "code",
   "execution_count": 88,
   "id": "08fa0314",
   "metadata": {},
   "outputs": [
    {
     "data": {
      "image/png": "[encoded data removed]",
      "text/plain": [
       "<Figure size 1080x270 with 2 Axes>"
      ]
     },
     "metadata": {},
     "output_type": "display_data"
    }
   ],
   "source": [
    "eda.plot_var('fico_score', 'FICO Score', continuous=True)"
   ]
  },
  {
   "cell_type": "code",
   "execution_count": 89,
   "id": "d50aafb2",
   "metadata": {},
   "outputs": [
    {
     "data": {
      "image/png": "[encoded data removed]",
      "text/plain": [
       "<Figure size 432x288 with 1 Axes>"
      ]
     },
     "metadata": {},
     "output_type": "display_data"
    }
   ],
   "source": [
    "eda.plot_density_plot('fico_score')"
   ]
  },
  {
   "cell_type": "markdown",
   "id": "993a0a51",
   "metadata": {},
   "source": [
    "### Bad loans have a huge difference between the FICO scores as compared to good loans. The FICO scores of bad loans is much less than that of good loans on average. Compare the summary stats:"
   ]
  },
  {
   "cell_type": "code",
   "execution_count": 90,
   "id": "3d619e03",
   "metadata": {},
   "outputs": [
    {
     "data": {
      "text/html": [
       "<div>\n",
       "<style scoped>\n",
       "    .dataframe tbody tr th:only-of-type {\n",
       "        vertical-align: middle;\n",
       "    }\n",
       "\n",
       "    .dataframe tbody tr th {\n",
       "        vertical-align: top;\n",
       "    }\n",
       "\n",
       "    .dataframe thead th {\n",
       "        text-align: right;\n",
       "    }\n",
       "</style>\n",
       "<table border=\"1\" class=\"dataframe\">\n",
       "  <thead>\n",
       "    <tr style=\"text-align: right;\">\n",
       "      <th></th>\n",
       "      <th>count</th>\n",
       "      <th>mean</th>\n",
       "      <th>std</th>\n",
       "      <th>min</th>\n",
       "      <th>25%</th>\n",
       "      <th>50%</th>\n",
       "      <th>75%</th>\n",
       "      <th>max</th>\n",
       "    </tr>\n",
       "    <tr>\n",
       "      <th>loan_category</th>\n",
       "      <th></th>\n",
       "      <th></th>\n",
       "      <th></th>\n",
       "      <th></th>\n",
       "      <th></th>\n",
       "      <th></th>\n",
       "      <th></th>\n",
       "      <th></th>\n",
       "    </tr>\n",
       "  </thead>\n",
       "  <tbody>\n",
       "    <tr>\n",
       "      <th>bad</th>\n",
       "      <td>269360.0</td>\n",
       "      <td>689.831386</td>\n",
       "      <td>25.956008</td>\n",
       "      <td>617.0</td>\n",
       "      <td>672.0</td>\n",
       "      <td>682.0</td>\n",
       "      <td>702.0</td>\n",
       "      <td>847.5</td>\n",
       "    </tr>\n",
       "    <tr>\n",
       "      <th>good</th>\n",
       "      <td>1078739.0</td>\n",
       "      <td>700.242523</td>\n",
       "      <td>32.831822</td>\n",
       "      <td>612.0</td>\n",
       "      <td>677.0</td>\n",
       "      <td>692.0</td>\n",
       "      <td>717.0</td>\n",
       "      <td>847.5</td>\n",
       "    </tr>\n",
       "  </tbody>\n",
       "</table>\n",
       "</div>"
      ],
      "text/plain": [
       "                   count        mean        std    min    25%    50%    75%  \\\n",
       "loan_category                                                                 \n",
       "bad             269360.0  689.831386  25.956008  617.0  672.0  682.0  702.0   \n",
       "good           1078739.0  700.242523  32.831822  612.0  677.0  692.0  717.0   \n",
       "\n",
       "                 max  \n",
       "loan_category         \n",
       "bad            847.5  \n",
       "good           847.5  "
      ]
     },
     "execution_count": 90,
     "metadata": {},
     "output_type": "execute_result"
    }
   ],
   "source": [
    "loans.groupby('loan_category')['fico_score'].describe()"
   ]
  },
  {
   "cell_type": "markdown",
   "id": "6a727eb9",
   "metadata": {},
   "source": [
    "### Bad loans have a FICO score 10 points lower on average."
   ]
  },
  {
   "cell_type": "markdown",
   "id": "292e8ac8",
   "metadata": {},
   "source": [
    "## 4.15 mort_acc"
   ]
  },
  {
   "cell_type": "markdown",
   "id": "75341d6c",
   "metadata": {},
   "source": [
    "Data Dictionary: \"Number of mortgage accounts.\""
   ]
  },
  {
   "cell_type": "code",
   "execution_count": 91,
   "id": "89f4f427",
   "metadata": {},
   "outputs": [
    {
     "data": {
      "text/plain": [
       "count    1.298069e+06\n",
       "mean     1.670769e+00\n",
       "std      2.000441e+00\n",
       "min      0.000000e+00\n",
       "25%      0.000000e+00\n",
       "50%      1.000000e+00\n",
       "75%      3.000000e+00\n",
       "max      5.100000e+01\n",
       "Name: mort_acc, dtype: float64"
      ]
     },
     "execution_count": 91,
     "metadata": {},
     "output_type": "execute_result"
    }
   ],
   "source": [
    "loans['mort_acc'].describe()"
   ]
  },
  {
   "cell_type": "markdown",
   "id": "24be8839",
   "metadata": {},
   "source": [
    "### Not sure how someone can have 51 mortgage accounts...but apparently they do. Check the top 10 values:"
   ]
  },
  {
   "cell_type": "code",
   "execution_count": 92,
   "id": "8b56ff7b",
   "metadata": {},
   "outputs": [
    {
     "data": {
      "text/plain": [
       "0.0    523858\n",
       "1.0    226144\n",
       "2.0    188943\n",
       "3.0    139385\n",
       "4.0     94921\n",
       "5.0     57633\n",
       "6.0     32539\n",
       "7.0     16852\n",
       "8.0      8378\n",
       "9.0      4285\n",
       "Name: mort_acc, dtype: int64"
      ]
     },
     "execution_count": 92,
     "metadata": {},
     "output_type": "execute_result"
    }
   ],
   "source": [
    "loans['mort_acc'].value_counts().head(10)"
   ]
  },
  {
   "cell_type": "markdown",
   "id": "9f81dd28",
   "metadata": {},
   "source": [
    "Compare the summary statistics by loan category:"
   ]
  },
  {
   "cell_type": "code",
   "execution_count": 93,
   "id": "c4b01d03",
   "metadata": {},
   "outputs": [
    {
     "data": {
      "text/html": [
       "<div>\n",
       "<style scoped>\n",
       "    .dataframe tbody tr th:only-of-type {\n",
       "        vertical-align: middle;\n",
       "    }\n",
       "\n",
       "    .dataframe tbody tr th {\n",
       "        vertical-align: top;\n",
       "    }\n",
       "\n",
       "    .dataframe thead th {\n",
       "        text-align: right;\n",
       "    }\n",
       "</style>\n",
       "<table border=\"1\" class=\"dataframe\">\n",
       "  <thead>\n",
       "    <tr style=\"text-align: right;\">\n",
       "      <th></th>\n",
       "      <th>count</th>\n",
       "      <th>mean</th>\n",
       "      <th>std</th>\n",
       "      <th>min</th>\n",
       "      <th>25%</th>\n",
       "      <th>50%</th>\n",
       "      <th>75%</th>\n",
       "      <th>max</th>\n",
       "    </tr>\n",
       "    <tr>\n",
       "      <th>loan_category</th>\n",
       "      <th></th>\n",
       "      <th></th>\n",
       "      <th></th>\n",
       "      <th></th>\n",
       "      <th></th>\n",
       "      <th></th>\n",
       "      <th></th>\n",
       "      <th></th>\n",
       "    </tr>\n",
       "  </thead>\n",
       "  <tbody>\n",
       "    <tr>\n",
       "      <th>bad</th>\n",
       "      <td>261713.0</td>\n",
       "      <td>1.371006</td>\n",
       "      <td>1.825508</td>\n",
       "      <td>0.0</td>\n",
       "      <td>0.0</td>\n",
       "      <td>1.0</td>\n",
       "      <td>2.0</td>\n",
       "      <td>29.0</td>\n",
       "    </tr>\n",
       "    <tr>\n",
       "      <th>good</th>\n",
       "      <td>1036356.0</td>\n",
       "      <td>1.746468</td>\n",
       "      <td>2.035279</td>\n",
       "      <td>0.0</td>\n",
       "      <td>0.0</td>\n",
       "      <td>1.0</td>\n",
       "      <td>3.0</td>\n",
       "      <td>51.0</td>\n",
       "    </tr>\n",
       "  </tbody>\n",
       "</table>\n",
       "</div>"
      ],
      "text/plain": [
       "                   count      mean       std  min  25%  50%  75%   max\n",
       "loan_category                                                         \n",
       "bad             261713.0  1.371006  1.825508  0.0  0.0  1.0  2.0  29.0\n",
       "good           1036356.0  1.746468  2.035279  0.0  0.0  1.0  3.0  51.0"
      ]
     },
     "execution_count": 93,
     "metadata": {},
     "output_type": "execute_result"
    }
   ],
   "source": [
    "loans.groupby('loan_category')['mort_acc'].describe()"
   ]
  },
  {
   "cell_type": "markdown",
   "id": "49ccb56f",
   "metadata": {},
   "source": [
    "### Individuals who pay off their loans are more likely to have several mortgage accounts."
   ]
  },
  {
   "cell_type": "markdown",
   "id": "62b75044",
   "metadata": {},
   "source": [
    "## 4.16 verification_status"
   ]
  },
  {
   "cell_type": "code",
   "execution_count": 94,
   "id": "39ce15fe",
   "metadata": {},
   "outputs": [
    {
     "data": {
      "image/png": "[encoded data removed]",
      "text/plain": [
       "<Figure size 1080x270 with 2 Axes>"
      ]
     },
     "metadata": {},
     "output_type": "display_data"
    }
   ],
   "source": [
    "eda.plot_var('verification_status', 'Verification Status', continuous=False)"
   ]
  },
  {
   "cell_type": "code",
   "execution_count": 95,
   "id": "c19b6893",
   "metadata": {},
   "outputs": [
    {
     "data": {
      "image/png": "[encoded data removed]",
      "text/plain": [
       "<Figure size 1224x432 with 3 Axes>"
      ]
     },
     "metadata": {},
     "output_type": "display_data"
    }
   ],
   "source": [
    "eda.plot_countplot('verification_status')"
   ]
  },
  {
   "cell_type": "markdown",
   "id": "0ec94198",
   "metadata": {},
   "source": [
    "### Surprisingly, verified loans default more than not verified"
   ]
  },
  {
   "cell_type": "markdown",
   "id": "b74302b6",
   "metadata": {},
   "source": [
    "# 5. Conclusion"
   ]
  },
  {
   "cell_type": "markdown",
   "id": "69265daa",
   "metadata": {},
   "source": [
    "The summary of the key findings is presented below:\n",
    "\n",
    "1. Loans with five-year periods are more than twice as likely to be a bad loan as comapred with three-year periods.\n",
    "\n",
    "\n",
    "2. Bad loans tend to have much higher interest rates. On average they have around 3% more interest rate than good loans.\n",
    "\n",
    "\n",
    "3. Bad Loans have $33 higher installments on average than good loans.\n",
    "\n",
    "\n",
    "4. As the grade of loan goes from A to G, the default rate increases. This is expected because the grade is decided by Lending Club based on the riskiness of the loan.\n",
    "\n",
    "\n",
    "5. Loan status does not appear to vary much with employment length on average, except for a small drop in charge-offs for borrowers with over 10 years of employment.\n",
    "\n",
    "\n",
    "6. There is a large differences in bad loans rates by home ownership status. Renters and homeowners have a higher probability of bad loans. Renters are 5% more likely to default on a loan than people with mortgage.\n",
    "\n",
    "\n",
    "7. The purpose of the loan is an important factor to decide the quality of a loan. It is observed that only 12% of completed loans for weddings are bad loans, where as 30% of completed small business loans are bad loans. \n",
    "\n",
    "\n",
    "8. There is a significat deviation between the bad loans percentages among different states. The bad loans rate ranges from 13.2% in Washington, DC to 26.1% in Mississippi. This means that geographical location of a person is very imprtant factor in deciding the status of the loan as people living together tend to think in a similar way. \n",
    "\n",
    "\n",
    "9. Completed loans that are bad tend to have 3% higher debt-to-income ratios.\n",
    "\n",
    "\n",
    "10. Bad loans have a huge difference between the FICO scores as compared to good loans. The FICO scores of bad loans is 10 points than that of good loans on average.\n",
    "\n",
    "\n",
    "11. Individuals who pay off their loans are more likely to have several mortgage accounts.\n",
    "\n",
    "\n",
    "12. Surprisingly, verified loans default more than not verified\n",
    "\n"
   ]
  },
  {
   "cell_type": "code",
   "execution_count": null,
   "id": "d7a0bf81",
   "metadata": {},
   "outputs": [],
   "source": []
  },
  {
   "cell_type": "markdown",
   "id": "25cdd25f",
   "metadata": {},
   "source": [
    "# Miscellaneous"
   ]
  },
  {
   "cell_type": "code",
   "execution_count": 96,
   "id": "3983ec2c",
   "metadata": {},
   "outputs": [],
   "source": [
    "def categorise_loan(x):\n",
    "    return x//5000"
   ]
  },
  {
   "cell_type": "code",
   "execution_count": 97,
   "id": "bc25085b",
   "metadata": {},
   "outputs": [],
   "source": [
    "loans['loan_amt_category'] = loans['loan_amnt'].apply(categorise_loan)"
   ]
  },
  {
   "cell_type": "code",
   "execution_count": 98,
   "id": "a19727dd",
   "metadata": {},
   "outputs": [],
   "source": [
    "dd = loans.groupby('loan_amt_category').mean()[['loan_category_numeric']]"
   ]
  },
  {
   "cell_type": "code",
   "execution_count": 99,
   "id": "f605c329",
   "metadata": {},
   "outputs": [
    {
     "data": {
      "text/plain": [
       "[<matplotlib.lines.Line2D at 0x7fd487540160>]"
      ]
     },
     "execution_count": 99,
     "metadata": {},
     "output_type": "execute_result"
    },
    {
     "data": {
      "image/png": "[encoded data removed]",
      "text/plain": [
       "<Figure size 432x288 with 1 Axes>"
      ]
     },
     "metadata": {},
     "output_type": "display_data"
    }
   ],
   "source": [
    "plt.plot(dd)"
   ]
  },
  {
   "cell_type": "code",
   "execution_count": 100,
   "id": "7d33a2b7",
   "metadata": {},
   "outputs": [
    {
     "data": {
      "text/plain": [
       "1.0    323792\n",
       "2.0    313828\n",
       "3.0    214111\n",
       "4.0    169422\n",
       "0.0    133889\n",
       "5.0     82855\n",
       "7.0     53704\n",
       "6.0     49751\n",
       "8.0      6747\n",
       "Name: loan_amt_category, dtype: int64"
      ]
     },
     "execution_count": 100,
     "metadata": {},
     "output_type": "execute_result"
    }
   ],
   "source": [
    "loans['loan_amt_category'].value_counts()"
   ]
  },
  {
   "cell_type": "code",
   "execution_count": null,
   "id": "5786836f",
   "metadata": {},
   "outputs": [],
   "source": []
  }
 ],
 "metadata": {
  "kernelspec": {
   "display_name": "Python 3",
   "language": "python",
   "name": "python3"
  },
  "language_info": {
   "codemirror_mode": {
    "name": "ipython",
    "version": 3
   },
   "file_extension": ".py",
   "mimetype": "text/x-python",
   "name": "python",
   "nbconvert_exporter": "python",
   "pygments_lexer": "ipython3",
   "version": "3.8.8"
  }
 },
 "nbformat": 4,
 "nbformat_minor": 5
}
